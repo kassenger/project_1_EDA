{
 "cells": [
  {
   "cell_type": "code",
   "execution_count": 3,
   "metadata": {
    "ExecuteTime": {
     "end_time": "2020-01-10T05:55:34.764092Z",
     "start_time": "2020-01-10T05:55:34.729269Z"
    }
   },
   "outputs": [],
   "source": [
    "import pandas as pd\n",
    "import datetime"
   ]
  },
  {
   "cell_type": "code",
   "execution_count": 4,
   "metadata": {
    "ExecuteTime": {
     "end_time": "2020-01-10T06:00:49.766375Z",
     "start_time": "2020-01-10T05:55:37.261253Z"
    }
   },
   "outputs": [],
   "source": [
    "turnstile_data = pd.concat([\n",
    "                       pd.read_csv('http://web.mta.info/developers/data/nyct/turnstile/turnstile_190601.txt'),    #june 1, 2019\n",
    "                       pd.read_csv('http://web.mta.info/developers/data/nyct/turnstile/turnstile_190608.txt'),    #june 8, 2019\n",
    "                       pd.read_csv('http://web.mta.info/developers/data/nyct/turnstile/turnstile_190615.txt'),    #june 15, 2019\n",
    "                       pd.read_csv('http://web.mta.info/developers/data/nyct/turnstile/turnstile_190622.txt'),    #june 22, 2019\n",
    "                       pd.read_csv('http://web.mta.info/developers/data/nyct/turnstile/turnstile_190629.txt'),    #june 29, 2019\n",
    "\n",
    "                       pd.read_csv('http://web.mta.info/developers/data/nyct/turnstile/turnstile_190706.txt'),    #july 6, 2019\n",
    "                       pd.read_csv('http://web.mta.info/developers/data/nyct/turnstile/turnstile_190713.txt'),    #july 13, 2019\n",
    "                       pd.read_csv('http://web.mta.info/developers/data/nyct/turnstile/turnstile_190720.txt'),    #july 20, 2019\n",
    "                       pd.read_csv('http://web.mta.info/developers/data/nyct/turnstile/turnstile_190727.txt'),    #july 27, 2019\n",
    "\n",
    "                       pd.read_csv('http://web.mta.info/developers/data/nyct/turnstile/turnstile_180602.txt'),    #june 2, 2018\n",
    "                       pd.read_csv('http://web.mta.info/developers/data/nyct/turnstile/turnstile_180609.txt'),    #june 9, 2018\n",
    "                       pd.read_csv('http://web.mta.info/developers/data/nyct/turnstile/turnstile_180616.txt'),    #june 16, 2018\n",
    "                       pd.read_csv('http://web.mta.info/developers/data/nyct/turnstile/turnstile_180623.txt'),    #june 23, 2018\n",
    "                       pd.read_csv('http://web.mta.info/developers/data/nyct/turnstile/turnstile_180630.txt'),    #june 30, 2018\n",
    "                       \n",
    "                       pd.read_csv('http://web.mta.info/developers/data/nyct/turnstile/turnstile_180707.txt'),    #july 7, 2018\n",
    "                       pd.read_csv('http://web.mta.info/developers/data/nyct/turnstile/turnstile_180714.txt'),    #july 14, 2018\n",
    "                       pd.read_csv('http://web.mta.info/developers/data/nyct/turnstile/turnstile_180721.txt'),    #july 21, 2018\n",
    "                       pd.read_csv('http://web.mta.info/developers/data/nyct/turnstile/turnstile_180728.txt'),    #july 28, 2018\n",
    "\n",
    "                       pd.read_csv('http://web.mta.info/developers/data/nyct/turnstile/turnstile_170603.txt'),    #june 3, 2017\n",
    "                       pd.read_csv('http://web.mta.info/developers/data/nyct/turnstile/turnstile_170610.txt'),    #june 10, 2017\n",
    "                       pd.read_csv('http://web.mta.info/developers/data/nyct/turnstile/turnstile_170617.txt'),    #june 17, 2017\n",
    "                       pd.read_csv('http://web.mta.info/developers/data/nyct/turnstile/turnstile_170624.txt'),    #june 24, 2017\n",
    "\n",
    "                       pd.read_csv('http://web.mta.info/developers/data/nyct/turnstile/turnstile_170701.txt'),    #july 1, 2017\n",
    "                       pd.read_csv('http://web.mta.info/developers/data/nyct/turnstile/turnstile_170708.txt'),    #july 8, 2017\n",
    "                       pd.read_csv('http://web.mta.info/developers/data/nyct/turnstile/turnstile_170715.txt'),    #july 15, 2017\n",
    "                       pd.read_csv('http://web.mta.info/developers/data/nyct/turnstile/turnstile_170722.txt'),    #july 22, 2017\n",
    "                       pd.read_csv('http://web.mta.info/developers/data/nyct/turnstile/turnstile_170729.txt'),    #july 29, 2017\n",
    "                       ])"
   ]
  },
  {
   "cell_type": "code",
   "execution_count": 5,
   "metadata": {
    "ExecuteTime": {
     "end_time": "2020-01-10T06:02:04.354827Z",
     "start_time": "2020-01-10T06:01:46.165298Z"
    }
   },
   "outputs": [],
   "source": [
    "\n",
    "\n",
    "df060119 = turnstile_data\n",
    "\n",
    "df060119.rename(columns=lambda x: x.strip(), inplace=True) # strip the white space for each column\n",
    "\n",
    "df060119['datetime'] = df060119['DATE'].str.cat(df060119['TIME'],sep=\" \")\n",
    "\n",
    "df060119['TURNSTILE_ID'] = df060119['STATION'] + '-' + df060119['C/A'] + '-' + df060119['UNIT'] + '-' + df060119['SCP']\n",
    "\n",
    "df060119.sort_values(['TURNSTILE_ID','datetime'],inplace = True)\n",
    "\n",
    "#df060119.drop('DATE', axis=1, inplace=True)\n",
    "#df060119.drop('TIME', axis=1, inplace=True)\n",
    "\n",
    "df060119.reset_index(drop= True,inplace = True)\n"
   ]
  },
  {
   "cell_type": "code",
   "execution_count": 6,
   "metadata": {
    "ExecuteTime": {
     "end_time": "2020-01-10T06:02:07.609214Z",
     "start_time": "2020-01-10T06:02:07.520433Z"
    }
   },
   "outputs": [],
   "source": [
    "df060119['ac_entries'] = df060119['ENTRIES'].diff() # do subtraction to get the real entries number # \n",
    "df060119['ac_exits'] = df060119['EXITS'].diff() # do subtraction to get the real exits number"
   ]
  },
  {
   "cell_type": "code",
   "execution_count": 10,
   "metadata": {
    "ExecuteTime": {
     "end_time": "2020-01-10T06:06:04.136410Z",
     "start_time": "2020-01-10T06:06:02.639842Z"
    }
   },
   "outputs": [
    {
     "data": {
      "text/html": [
       "<div>\n",
       "<style scoped>\n",
       "    .dataframe tbody tr th:only-of-type {\n",
       "        vertical-align: middle;\n",
       "    }\n",
       "\n",
       "    .dataframe tbody tr th {\n",
       "        vertical-align: top;\n",
       "    }\n",
       "\n",
       "    .dataframe thead th {\n",
       "        text-align: right;\n",
       "    }\n",
       "</style>\n",
       "<table border=\"1\" class=\"dataframe\">\n",
       "  <thead>\n",
       "    <tr style=\"text-align: right;\">\n",
       "      <th></th>\n",
       "      <th>ENTRIES</th>\n",
       "      <th>EXITS</th>\n",
       "      <th>ac_entries</th>\n",
       "      <th>ac_exits</th>\n",
       "    </tr>\n",
       "  </thead>\n",
       "  <tbody>\n",
       "    <tr>\n",
       "      <th>count</th>\n",
       "      <td>5.405519e+06</td>\n",
       "      <td>5.405519e+06</td>\n",
       "      <td>5.405518e+06</td>\n",
       "      <td>5.405518e+06</td>\n",
       "    </tr>\n",
       "    <tr>\n",
       "      <th>mean</th>\n",
       "      <td>4.048916e+07</td>\n",
       "      <td>3.290394e+07</td>\n",
       "      <td>-2.723033e+00</td>\n",
       "      <td>-3.043391e+00</td>\n",
       "    </tr>\n",
       "    <tr>\n",
       "      <th>std</th>\n",
       "      <td>2.099989e+08</td>\n",
       "      <td>1.916148e+08</td>\n",
       "      <td>5.662509e+07</td>\n",
       "      <td>4.826536e+07</td>\n",
       "    </tr>\n",
       "    <tr>\n",
       "      <th>min</th>\n",
       "      <td>0.000000e+00</td>\n",
       "      <td>0.000000e+00</td>\n",
       "      <td>-2.116996e+09</td>\n",
       "      <td>-2.108758e+09</td>\n",
       "    </tr>\n",
       "    <tr>\n",
       "      <th>25%</th>\n",
       "      <td>4.440680e+05</td>\n",
       "      <td>1.952975e+05</td>\n",
       "      <td>6.000000e+00</td>\n",
       "      <td>5.000000e+00</td>\n",
       "    </tr>\n",
       "    <tr>\n",
       "      <th>50%</th>\n",
       "      <td>2.436994e+06</td>\n",
       "      <td>1.366476e+06</td>\n",
       "      <td>8.900000e+01</td>\n",
       "      <td>5.800000e+01</td>\n",
       "    </tr>\n",
       "    <tr>\n",
       "      <th>75%</th>\n",
       "      <td>6.840620e+06</td>\n",
       "      <td>4.734020e+06</td>\n",
       "      <td>3.390000e+02</td>\n",
       "      <td>2.340000e+02</td>\n",
       "    </tr>\n",
       "    <tr>\n",
       "      <th>max</th>\n",
       "      <td>2.130465e+09</td>\n",
       "      <td>2.124055e+09</td>\n",
       "      <td>2.121879e+09</td>\n",
       "      <td>2.120286e+09</td>\n",
       "    </tr>\n",
       "  </tbody>\n",
       "</table>\n",
       "</div>"
      ],
      "text/plain": [
       "            ENTRIES         EXITS    ac_entries      ac_exits\n",
       "count  5.405519e+06  5.405519e+06  5.405518e+06  5.405518e+06\n",
       "mean   4.048916e+07  3.290394e+07 -2.723033e+00 -3.043391e+00\n",
       "std    2.099989e+08  1.916148e+08  5.662509e+07  4.826536e+07\n",
       "min    0.000000e+00  0.000000e+00 -2.116996e+09 -2.108758e+09\n",
       "25%    4.440680e+05  1.952975e+05  6.000000e+00  5.000000e+00\n",
       "50%    2.436994e+06  1.366476e+06  8.900000e+01  5.800000e+01\n",
       "75%    6.840620e+06  4.734020e+06  3.390000e+02  2.340000e+02\n",
       "max    2.130465e+09  2.124055e+09  2.121879e+09  2.120286e+09"
      ]
     },
     "execution_count": 10,
     "metadata": {},
     "output_type": "execute_result"
    }
   ],
   "source": [
    "df060119.describe() # check the statistics of the dataframe"
   ]
  },
  {
   "cell_type": "code",
   "execution_count": 7,
   "metadata": {
    "ExecuteTime": {
     "end_time": "2020-01-10T06:02:16.765046Z",
     "start_time": "2020-01-10T06:02:16.268823Z"
    }
   },
   "outputs": [],
   "source": [
    "Q3 = 2.190000e+02\n",
    "Q1 = 8.000000e+00\n",
    "\n",
    "IQR = Q3-Q1\n",
    "\n",
    "upper_bound = Q3+2*IQR \n",
    "\n",
    "lower_bound = Q1-2*IQR\n",
    "\n",
    "possible_outlier_len = len(df060119[df060119.ac_entries < lower_bound])+len(df060119[df060119.ac_entries > upper_bound])\n",
    "\n",
    "outlier_perc = possible_outlier_len/len(df060119)"
   ]
  },
  {
   "cell_type": "code",
   "execution_count": 8,
   "metadata": {
    "ExecuteTime": {
     "end_time": "2020-01-10T06:02:22.253888Z",
     "start_time": "2020-01-10T06:02:19.545630Z"
    }
   },
   "outputs": [],
   "source": [
    "d = df060119[df060119.ac_entries > lower_bound]\n",
    "df = d[d.ac_entries < upper_bound]"
   ]
  },
  {
   "cell_type": "code",
   "execution_count": 11,
   "metadata": {
    "ExecuteTime": {
     "end_time": "2020-01-10T06:07:49.206977Z",
     "start_time": "2020-01-10T06:07:49.138311Z"
    }
   },
   "outputs": [
    {
     "data": {
      "text/html": [
       "<div>\n",
       "<style scoped>\n",
       "    .dataframe tbody tr th:only-of-type {\n",
       "        vertical-align: middle;\n",
       "    }\n",
       "\n",
       "    .dataframe tbody tr th {\n",
       "        vertical-align: top;\n",
       "    }\n",
       "\n",
       "    .dataframe thead th {\n",
       "        text-align: right;\n",
       "    }\n",
       "</style>\n",
       "<table border=\"1\" class=\"dataframe\">\n",
       "  <thead>\n",
       "    <tr style=\"text-align: right;\">\n",
       "      <th></th>\n",
       "      <th>C/A</th>\n",
       "      <th>UNIT</th>\n",
       "      <th>SCP</th>\n",
       "      <th>STATION</th>\n",
       "      <th>LINENAME</th>\n",
       "      <th>DIVISION</th>\n",
       "      <th>DATE</th>\n",
       "      <th>TIME</th>\n",
       "      <th>DESC</th>\n",
       "      <th>ENTRIES</th>\n",
       "      <th>EXITS</th>\n",
       "      <th>datetime</th>\n",
       "      <th>TURNSTILE_ID</th>\n",
       "      <th>ac_entries</th>\n",
       "      <th>ac_exits</th>\n",
       "    </tr>\n",
       "  </thead>\n",
       "  <tbody>\n",
       "    <tr>\n",
       "      <th>1</th>\n",
       "      <td>H007</td>\n",
       "      <td>R248</td>\n",
       "      <td>00-00-00</td>\n",
       "      <td>1 AV</td>\n",
       "      <td>L</td>\n",
       "      <td>BMT</td>\n",
       "      <td>05/25/2019</td>\n",
       "      <td>04:00:00</td>\n",
       "      <td>REGULAR</td>\n",
       "      <td>14719444</td>\n",
       "      <td>16451172</td>\n",
       "      <td>05/25/2019 04:00:00</td>\n",
       "      <td>1 AV-H007-R248-00-00-00</td>\n",
       "      <td>0.0</td>\n",
       "      <td>0.0</td>\n",
       "    </tr>\n",
       "    <tr>\n",
       "      <th>2</th>\n",
       "      <td>H007</td>\n",
       "      <td>R248</td>\n",
       "      <td>00-00-00</td>\n",
       "      <td>1 AV</td>\n",
       "      <td>L</td>\n",
       "      <td>BMT</td>\n",
       "      <td>05/25/2019</td>\n",
       "      <td>08:00:00</td>\n",
       "      <td>REGULAR</td>\n",
       "      <td>14719444</td>\n",
       "      <td>16451172</td>\n",
       "      <td>05/25/2019 08:00:00</td>\n",
       "      <td>1 AV-H007-R248-00-00-00</td>\n",
       "      <td>0.0</td>\n",
       "      <td>0.0</td>\n",
       "    </tr>\n",
       "    <tr>\n",
       "      <th>3</th>\n",
       "      <td>H007</td>\n",
       "      <td>R248</td>\n",
       "      <td>00-00-00</td>\n",
       "      <td>1 AV</td>\n",
       "      <td>L</td>\n",
       "      <td>BMT</td>\n",
       "      <td>05/25/2019</td>\n",
       "      <td>12:00:00</td>\n",
       "      <td>REGULAR</td>\n",
       "      <td>14719444</td>\n",
       "      <td>16451173</td>\n",
       "      <td>05/25/2019 12:00:00</td>\n",
       "      <td>1 AV-H007-R248-00-00-00</td>\n",
       "      <td>0.0</td>\n",
       "      <td>1.0</td>\n",
       "    </tr>\n",
       "    <tr>\n",
       "      <th>4</th>\n",
       "      <td>H007</td>\n",
       "      <td>R248</td>\n",
       "      <td>00-00-00</td>\n",
       "      <td>1 AV</td>\n",
       "      <td>L</td>\n",
       "      <td>BMT</td>\n",
       "      <td>05/25/2019</td>\n",
       "      <td>16:00:00</td>\n",
       "      <td>REGULAR</td>\n",
       "      <td>14719444</td>\n",
       "      <td>16451173</td>\n",
       "      <td>05/25/2019 16:00:00</td>\n",
       "      <td>1 AV-H007-R248-00-00-00</td>\n",
       "      <td>0.0</td>\n",
       "      <td>0.0</td>\n",
       "    </tr>\n",
       "    <tr>\n",
       "      <th>5</th>\n",
       "      <td>H007</td>\n",
       "      <td>R248</td>\n",
       "      <td>00-00-00</td>\n",
       "      <td>1 AV</td>\n",
       "      <td>L</td>\n",
       "      <td>BMT</td>\n",
       "      <td>05/25/2019</td>\n",
       "      <td>20:00:00</td>\n",
       "      <td>REGULAR</td>\n",
       "      <td>14719444</td>\n",
       "      <td>16451173</td>\n",
       "      <td>05/25/2019 20:00:00</td>\n",
       "      <td>1 AV-H007-R248-00-00-00</td>\n",
       "      <td>0.0</td>\n",
       "      <td>0.0</td>\n",
       "    </tr>\n",
       "    <tr>\n",
       "      <th>7</th>\n",
       "      <td>H007</td>\n",
       "      <td>R248</td>\n",
       "      <td>00-00-00</td>\n",
       "      <td>1 AV</td>\n",
       "      <td>L</td>\n",
       "      <td>BMT</td>\n",
       "      <td>05/26/2018</td>\n",
       "      <td>04:00:00</td>\n",
       "      <td>REGULAR</td>\n",
       "      <td>13569755</td>\n",
       "      <td>15200616</td>\n",
       "      <td>05/26/2018 04:00:00</td>\n",
       "      <td>1 AV-H007-R248-00-00-00</td>\n",
       "      <td>88.0</td>\n",
       "      <td>235.0</td>\n",
       "    </tr>\n",
       "    <tr>\n",
       "      <th>8</th>\n",
       "      <td>H007</td>\n",
       "      <td>R248</td>\n",
       "      <td>00-00-00</td>\n",
       "      <td>1 AV</td>\n",
       "      <td>L</td>\n",
       "      <td>BMT</td>\n",
       "      <td>05/26/2018</td>\n",
       "      <td>08:00:00</td>\n",
       "      <td>REGULAR</td>\n",
       "      <td>13569834</td>\n",
       "      <td>15200917</td>\n",
       "      <td>05/26/2018 08:00:00</td>\n",
       "      <td>1 AV-H007-R248-00-00-00</td>\n",
       "      <td>79.0</td>\n",
       "      <td>301.0</td>\n",
       "    </tr>\n",
       "    <tr>\n",
       "      <th>9</th>\n",
       "      <td>H007</td>\n",
       "      <td>R248</td>\n",
       "      <td>00-00-00</td>\n",
       "      <td>1 AV</td>\n",
       "      <td>L</td>\n",
       "      <td>BMT</td>\n",
       "      <td>05/26/2018</td>\n",
       "      <td>12:00:00</td>\n",
       "      <td>REGULAR</td>\n",
       "      <td>13570342</td>\n",
       "      <td>15201709</td>\n",
       "      <td>05/26/2018 12:00:00</td>\n",
       "      <td>1 AV-H007-R248-00-00-00</td>\n",
       "      <td>508.0</td>\n",
       "      <td>792.0</td>\n",
       "    </tr>\n",
       "    <tr>\n",
       "      <th>11</th>\n",
       "      <td>H007</td>\n",
       "      <td>R248</td>\n",
       "      <td>00-00-00</td>\n",
       "      <td>1 AV</td>\n",
       "      <td>L</td>\n",
       "      <td>BMT</td>\n",
       "      <td>05/26/2018</td>\n",
       "      <td>20:00:00</td>\n",
       "      <td>REGULAR</td>\n",
       "      <td>13571652</td>\n",
       "      <td>15203771</td>\n",
       "      <td>05/26/2018 20:00:00</td>\n",
       "      <td>1 AV-H007-R248-00-00-00</td>\n",
       "      <td>616.0</td>\n",
       "      <td>1036.0</td>\n",
       "    </tr>\n",
       "    <tr>\n",
       "      <th>13</th>\n",
       "      <td>H007</td>\n",
       "      <td>R248</td>\n",
       "      <td>00-00-00</td>\n",
       "      <td>1 AV</td>\n",
       "      <td>L</td>\n",
       "      <td>BMT</td>\n",
       "      <td>05/26/2019</td>\n",
       "      <td>04:00:00</td>\n",
       "      <td>REGULAR</td>\n",
       "      <td>14719444</td>\n",
       "      <td>16451173</td>\n",
       "      <td>05/26/2019 04:00:00</td>\n",
       "      <td>1 AV-H007-R248-00-00-00</td>\n",
       "      <td>0.0</td>\n",
       "      <td>0.0</td>\n",
       "    </tr>\n",
       "    <tr>\n",
       "      <th>14</th>\n",
       "      <td>H007</td>\n",
       "      <td>R248</td>\n",
       "      <td>00-00-00</td>\n",
       "      <td>1 AV</td>\n",
       "      <td>L</td>\n",
       "      <td>BMT</td>\n",
       "      <td>05/26/2019</td>\n",
       "      <td>08:00:00</td>\n",
       "      <td>REGULAR</td>\n",
       "      <td>14719444</td>\n",
       "      <td>16451173</td>\n",
       "      <td>05/26/2019 08:00:00</td>\n",
       "      <td>1 AV-H007-R248-00-00-00</td>\n",
       "      <td>0.0</td>\n",
       "      <td>0.0</td>\n",
       "    </tr>\n",
       "    <tr>\n",
       "      <th>15</th>\n",
       "      <td>H007</td>\n",
       "      <td>R248</td>\n",
       "      <td>00-00-00</td>\n",
       "      <td>1 AV</td>\n",
       "      <td>L</td>\n",
       "      <td>BMT</td>\n",
       "      <td>05/26/2019</td>\n",
       "      <td>12:00:00</td>\n",
       "      <td>REGULAR</td>\n",
       "      <td>14719444</td>\n",
       "      <td>16451173</td>\n",
       "      <td>05/26/2019 12:00:00</td>\n",
       "      <td>1 AV-H007-R248-00-00-00</td>\n",
       "      <td>0.0</td>\n",
       "      <td>0.0</td>\n",
       "    </tr>\n",
       "    <tr>\n",
       "      <th>16</th>\n",
       "      <td>H007</td>\n",
       "      <td>R248</td>\n",
       "      <td>00-00-00</td>\n",
       "      <td>1 AV</td>\n",
       "      <td>L</td>\n",
       "      <td>BMT</td>\n",
       "      <td>05/26/2019</td>\n",
       "      <td>16:00:00</td>\n",
       "      <td>REGULAR</td>\n",
       "      <td>14719444</td>\n",
       "      <td>16451173</td>\n",
       "      <td>05/26/2019 16:00:00</td>\n",
       "      <td>1 AV-H007-R248-00-00-00</td>\n",
       "      <td>0.0</td>\n",
       "      <td>0.0</td>\n",
       "    </tr>\n",
       "    <tr>\n",
       "      <th>17</th>\n",
       "      <td>H007</td>\n",
       "      <td>R248</td>\n",
       "      <td>00-00-00</td>\n",
       "      <td>1 AV</td>\n",
       "      <td>L</td>\n",
       "      <td>BMT</td>\n",
       "      <td>05/26/2019</td>\n",
       "      <td>20:00:00</td>\n",
       "      <td>REGULAR</td>\n",
       "      <td>14719444</td>\n",
       "      <td>16451173</td>\n",
       "      <td>05/26/2019 20:00:00</td>\n",
       "      <td>1 AV-H007-R248-00-00-00</td>\n",
       "      <td>0.0</td>\n",
       "      <td>0.0</td>\n",
       "    </tr>\n",
       "    <tr>\n",
       "      <th>19</th>\n",
       "      <td>H007</td>\n",
       "      <td>R248</td>\n",
       "      <td>00-00-00</td>\n",
       "      <td>1 AV</td>\n",
       "      <td>L</td>\n",
       "      <td>BMT</td>\n",
       "      <td>05/27/2017</td>\n",
       "      <td>04:00:00</td>\n",
       "      <td>REGULAR</td>\n",
       "      <td>12371406</td>\n",
       "      <td>13647729</td>\n",
       "      <td>05/27/2017 04:00:00</td>\n",
       "      <td>1 AV-H007-R248-00-00-00</td>\n",
       "      <td>0.0</td>\n",
       "      <td>4.0</td>\n",
       "    </tr>\n",
       "    <tr>\n",
       "      <th>20</th>\n",
       "      <td>H007</td>\n",
       "      <td>R248</td>\n",
       "      <td>00-00-00</td>\n",
       "      <td>1 AV</td>\n",
       "      <td>L</td>\n",
       "      <td>BMT</td>\n",
       "      <td>05/27/2017</td>\n",
       "      <td>08:00:00</td>\n",
       "      <td>REGULAR</td>\n",
       "      <td>12371406</td>\n",
       "      <td>13647739</td>\n",
       "      <td>05/27/2017 08:00:00</td>\n",
       "      <td>1 AV-H007-R248-00-00-00</td>\n",
       "      <td>0.0</td>\n",
       "      <td>10.0</td>\n",
       "    </tr>\n",
       "    <tr>\n",
       "      <th>21</th>\n",
       "      <td>H007</td>\n",
       "      <td>R248</td>\n",
       "      <td>00-00-00</td>\n",
       "      <td>1 AV</td>\n",
       "      <td>L</td>\n",
       "      <td>BMT</td>\n",
       "      <td>05/27/2017</td>\n",
       "      <td>12:00:00</td>\n",
       "      <td>REGULAR</td>\n",
       "      <td>12371406</td>\n",
       "      <td>13647741</td>\n",
       "      <td>05/27/2017 12:00:00</td>\n",
       "      <td>1 AV-H007-R248-00-00-00</td>\n",
       "      <td>0.0</td>\n",
       "      <td>2.0</td>\n",
       "    </tr>\n",
       "    <tr>\n",
       "      <th>22</th>\n",
       "      <td>H007</td>\n",
       "      <td>R248</td>\n",
       "      <td>00-00-00</td>\n",
       "      <td>1 AV</td>\n",
       "      <td>L</td>\n",
       "      <td>BMT</td>\n",
       "      <td>05/27/2017</td>\n",
       "      <td>16:00:00</td>\n",
       "      <td>REGULAR</td>\n",
       "      <td>12371406</td>\n",
       "      <td>13647741</td>\n",
       "      <td>05/27/2017 16:00:00</td>\n",
       "      <td>1 AV-H007-R248-00-00-00</td>\n",
       "      <td>0.0</td>\n",
       "      <td>0.0</td>\n",
       "    </tr>\n",
       "    <tr>\n",
       "      <th>23</th>\n",
       "      <td>H007</td>\n",
       "      <td>R248</td>\n",
       "      <td>00-00-00</td>\n",
       "      <td>1 AV</td>\n",
       "      <td>L</td>\n",
       "      <td>BMT</td>\n",
       "      <td>05/27/2017</td>\n",
       "      <td>20:00:00</td>\n",
       "      <td>REGULAR</td>\n",
       "      <td>12371406</td>\n",
       "      <td>13647742</td>\n",
       "      <td>05/27/2017 20:00:00</td>\n",
       "      <td>1 AV-H007-R248-00-00-00</td>\n",
       "      <td>0.0</td>\n",
       "      <td>1.0</td>\n",
       "    </tr>\n",
       "    <tr>\n",
       "      <th>25</th>\n",
       "      <td>H007</td>\n",
       "      <td>R248</td>\n",
       "      <td>00-00-00</td>\n",
       "      <td>1 AV</td>\n",
       "      <td>L</td>\n",
       "      <td>BMT</td>\n",
       "      <td>05/27/2018</td>\n",
       "      <td>04:00:00</td>\n",
       "      <td>REGULAR</td>\n",
       "      <td>13572181</td>\n",
       "      <td>15204775</td>\n",
       "      <td>05/27/2018 04:00:00</td>\n",
       "      <td>1 AV-H007-R248-00-00-00</td>\n",
       "      <td>99.0</td>\n",
       "      <td>257.0</td>\n",
       "    </tr>\n",
       "  </tbody>\n",
       "</table>\n",
       "</div>"
      ],
      "text/plain": [
       "     C/A  UNIT       SCP STATION LINENAME DIVISION        DATE      TIME  \\\n",
       "1   H007  R248  00-00-00    1 AV        L      BMT  05/25/2019  04:00:00   \n",
       "2   H007  R248  00-00-00    1 AV        L      BMT  05/25/2019  08:00:00   \n",
       "3   H007  R248  00-00-00    1 AV        L      BMT  05/25/2019  12:00:00   \n",
       "4   H007  R248  00-00-00    1 AV        L      BMT  05/25/2019  16:00:00   \n",
       "5   H007  R248  00-00-00    1 AV        L      BMT  05/25/2019  20:00:00   \n",
       "7   H007  R248  00-00-00    1 AV        L      BMT  05/26/2018  04:00:00   \n",
       "8   H007  R248  00-00-00    1 AV        L      BMT  05/26/2018  08:00:00   \n",
       "9   H007  R248  00-00-00    1 AV        L      BMT  05/26/2018  12:00:00   \n",
       "11  H007  R248  00-00-00    1 AV        L      BMT  05/26/2018  20:00:00   \n",
       "13  H007  R248  00-00-00    1 AV        L      BMT  05/26/2019  04:00:00   \n",
       "14  H007  R248  00-00-00    1 AV        L      BMT  05/26/2019  08:00:00   \n",
       "15  H007  R248  00-00-00    1 AV        L      BMT  05/26/2019  12:00:00   \n",
       "16  H007  R248  00-00-00    1 AV        L      BMT  05/26/2019  16:00:00   \n",
       "17  H007  R248  00-00-00    1 AV        L      BMT  05/26/2019  20:00:00   \n",
       "19  H007  R248  00-00-00    1 AV        L      BMT  05/27/2017  04:00:00   \n",
       "20  H007  R248  00-00-00    1 AV        L      BMT  05/27/2017  08:00:00   \n",
       "21  H007  R248  00-00-00    1 AV        L      BMT  05/27/2017  12:00:00   \n",
       "22  H007  R248  00-00-00    1 AV        L      BMT  05/27/2017  16:00:00   \n",
       "23  H007  R248  00-00-00    1 AV        L      BMT  05/27/2017  20:00:00   \n",
       "25  H007  R248  00-00-00    1 AV        L      BMT  05/27/2018  04:00:00   \n",
       "\n",
       "       DESC   ENTRIES     EXITS             datetime             TURNSTILE_ID  \\\n",
       "1   REGULAR  14719444  16451172  05/25/2019 04:00:00  1 AV-H007-R248-00-00-00   \n",
       "2   REGULAR  14719444  16451172  05/25/2019 08:00:00  1 AV-H007-R248-00-00-00   \n",
       "3   REGULAR  14719444  16451173  05/25/2019 12:00:00  1 AV-H007-R248-00-00-00   \n",
       "4   REGULAR  14719444  16451173  05/25/2019 16:00:00  1 AV-H007-R248-00-00-00   \n",
       "5   REGULAR  14719444  16451173  05/25/2019 20:00:00  1 AV-H007-R248-00-00-00   \n",
       "7   REGULAR  13569755  15200616  05/26/2018 04:00:00  1 AV-H007-R248-00-00-00   \n",
       "8   REGULAR  13569834  15200917  05/26/2018 08:00:00  1 AV-H007-R248-00-00-00   \n",
       "9   REGULAR  13570342  15201709  05/26/2018 12:00:00  1 AV-H007-R248-00-00-00   \n",
       "11  REGULAR  13571652  15203771  05/26/2018 20:00:00  1 AV-H007-R248-00-00-00   \n",
       "13  REGULAR  14719444  16451173  05/26/2019 04:00:00  1 AV-H007-R248-00-00-00   \n",
       "14  REGULAR  14719444  16451173  05/26/2019 08:00:00  1 AV-H007-R248-00-00-00   \n",
       "15  REGULAR  14719444  16451173  05/26/2019 12:00:00  1 AV-H007-R248-00-00-00   \n",
       "16  REGULAR  14719444  16451173  05/26/2019 16:00:00  1 AV-H007-R248-00-00-00   \n",
       "17  REGULAR  14719444  16451173  05/26/2019 20:00:00  1 AV-H007-R248-00-00-00   \n",
       "19  REGULAR  12371406  13647729  05/27/2017 04:00:00  1 AV-H007-R248-00-00-00   \n",
       "20  REGULAR  12371406  13647739  05/27/2017 08:00:00  1 AV-H007-R248-00-00-00   \n",
       "21  REGULAR  12371406  13647741  05/27/2017 12:00:00  1 AV-H007-R248-00-00-00   \n",
       "22  REGULAR  12371406  13647741  05/27/2017 16:00:00  1 AV-H007-R248-00-00-00   \n",
       "23  REGULAR  12371406  13647742  05/27/2017 20:00:00  1 AV-H007-R248-00-00-00   \n",
       "25  REGULAR  13572181  15204775  05/27/2018 04:00:00  1 AV-H007-R248-00-00-00   \n",
       "\n",
       "    ac_entries  ac_exits  \n",
       "1          0.0       0.0  \n",
       "2          0.0       0.0  \n",
       "3          0.0       1.0  \n",
       "4          0.0       0.0  \n",
       "5          0.0       0.0  \n",
       "7         88.0     235.0  \n",
       "8         79.0     301.0  \n",
       "9        508.0     792.0  \n",
       "11       616.0    1036.0  \n",
       "13         0.0       0.0  \n",
       "14         0.0       0.0  \n",
       "15         0.0       0.0  \n",
       "16         0.0       0.0  \n",
       "17         0.0       0.0  \n",
       "19         0.0       4.0  \n",
       "20         0.0      10.0  \n",
       "21         0.0       2.0  \n",
       "22         0.0       0.0  \n",
       "23         0.0       1.0  \n",
       "25        99.0     257.0  "
      ]
     },
     "execution_count": 11,
     "metadata": {},
     "output_type": "execute_result"
    }
   ],
   "source": [
    "df.head(20)"
   ]
  },
  {
   "cell_type": "code",
   "execution_count": 9,
   "metadata": {
    "ExecuteTime": {
     "end_time": "2020-01-10T06:02:25.922886Z",
     "start_time": "2020-01-10T06:02:25.441045Z"
    }
   },
   "outputs": [
    {
     "data": {
      "text/html": [
       "<div>\n",
       "<style scoped>\n",
       "    .dataframe tbody tr th:only-of-type {\n",
       "        vertical-align: middle;\n",
       "    }\n",
       "\n",
       "    .dataframe tbody tr th {\n",
       "        vertical-align: top;\n",
       "    }\n",
       "\n",
       "    .dataframe thead th {\n",
       "        text-align: right;\n",
       "    }\n",
       "</style>\n",
       "<table border=\"1\" class=\"dataframe\">\n",
       "  <thead>\n",
       "    <tr style=\"text-align: right;\">\n",
       "      <th></th>\n",
       "      <th>STATION</th>\n",
       "      <th>ac_entries</th>\n",
       "    </tr>\n",
       "  </thead>\n",
       "  <tbody>\n",
       "    <tr>\n",
       "      <th>0</th>\n",
       "      <td>34 ST-PENN STA</td>\n",
       "      <td>13916877.0</td>\n",
       "    </tr>\n",
       "    <tr>\n",
       "      <th>1</th>\n",
       "      <td>FULTON ST</td>\n",
       "      <td>9654834.0</td>\n",
       "    </tr>\n",
       "    <tr>\n",
       "      <th>2</th>\n",
       "      <td>23 ST</td>\n",
       "      <td>8640859.0</td>\n",
       "    </tr>\n",
       "    <tr>\n",
       "      <th>3</th>\n",
       "      <td>42 ST-PORT AUTH</td>\n",
       "      <td>8158303.0</td>\n",
       "    </tr>\n",
       "    <tr>\n",
       "      <th>4</th>\n",
       "      <td>86 ST</td>\n",
       "      <td>7866832.0</td>\n",
       "    </tr>\n",
       "    <tr>\n",
       "      <th>5</th>\n",
       "      <td>125 ST</td>\n",
       "      <td>7853971.0</td>\n",
       "    </tr>\n",
       "    <tr>\n",
       "      <th>6</th>\n",
       "      <td>TIMES SQ-42 ST</td>\n",
       "      <td>7208142.0</td>\n",
       "    </tr>\n",
       "    <tr>\n",
       "      <th>7</th>\n",
       "      <td>GRD CNTRL-42 ST</td>\n",
       "      <td>6939598.0</td>\n",
       "    </tr>\n",
       "    <tr>\n",
       "      <th>8</th>\n",
       "      <td>CANAL ST</td>\n",
       "      <td>6447491.0</td>\n",
       "    </tr>\n",
       "    <tr>\n",
       "      <th>9</th>\n",
       "      <td>34 ST-HERALD SQ</td>\n",
       "      <td>5958302.0</td>\n",
       "    </tr>\n",
       "    <tr>\n",
       "      <th>10</th>\n",
       "      <td>59 ST</td>\n",
       "      <td>5917412.0</td>\n",
       "    </tr>\n",
       "    <tr>\n",
       "      <th>11</th>\n",
       "      <td>96 ST</td>\n",
       "      <td>5785834.0</td>\n",
       "    </tr>\n",
       "    <tr>\n",
       "      <th>12</th>\n",
       "      <td>CHAMBERS ST</td>\n",
       "      <td>5500401.0</td>\n",
       "    </tr>\n",
       "    <tr>\n",
       "      <th>13</th>\n",
       "      <td>ATL AV-BARCLAY</td>\n",
       "      <td>5460985.0</td>\n",
       "    </tr>\n",
       "    <tr>\n",
       "      <th>14</th>\n",
       "      <td>14 ST</td>\n",
       "      <td>5130465.0</td>\n",
       "    </tr>\n",
       "    <tr>\n",
       "      <th>15</th>\n",
       "      <td>59 ST COLUMBUS</td>\n",
       "      <td>4922032.0</td>\n",
       "    </tr>\n",
       "    <tr>\n",
       "      <th>16</th>\n",
       "      <td>14 ST-UNION SQ</td>\n",
       "      <td>4913589.0</td>\n",
       "    </tr>\n",
       "    <tr>\n",
       "      <th>17</th>\n",
       "      <td>50 ST</td>\n",
       "      <td>4758980.0</td>\n",
       "    </tr>\n",
       "    <tr>\n",
       "      <th>18</th>\n",
       "      <td>CHURCH AV</td>\n",
       "      <td>4671738.0</td>\n",
       "    </tr>\n",
       "    <tr>\n",
       "      <th>19</th>\n",
       "      <td>FLUSHING-MAIN</td>\n",
       "      <td>4647489.0</td>\n",
       "    </tr>\n",
       "    <tr>\n",
       "      <th>20</th>\n",
       "      <td>28 ST</td>\n",
       "      <td>4512370.0</td>\n",
       "    </tr>\n",
       "    <tr>\n",
       "      <th>21</th>\n",
       "      <td>116 ST</td>\n",
       "      <td>4412849.0</td>\n",
       "    </tr>\n",
       "    <tr>\n",
       "      <th>22</th>\n",
       "      <td>JKSN HT-ROOSVLT</td>\n",
       "      <td>4384527.0</td>\n",
       "    </tr>\n",
       "    <tr>\n",
       "      <th>23</th>\n",
       "      <td>WALL ST</td>\n",
       "      <td>4168966.0</td>\n",
       "    </tr>\n",
       "    <tr>\n",
       "      <th>24</th>\n",
       "      <td>PATH NEW WTC</td>\n",
       "      <td>4148839.0</td>\n",
       "    </tr>\n",
       "    <tr>\n",
       "      <th>25</th>\n",
       "      <td>72 ST</td>\n",
       "      <td>3830064.0</td>\n",
       "    </tr>\n",
       "    <tr>\n",
       "      <th>26</th>\n",
       "      <td>KINGS HWY</td>\n",
       "      <td>3761093.0</td>\n",
       "    </tr>\n",
       "    <tr>\n",
       "      <th>27</th>\n",
       "      <td>7 AV</td>\n",
       "      <td>3746597.0</td>\n",
       "    </tr>\n",
       "    <tr>\n",
       "      <th>28</th>\n",
       "      <td>JAY ST-METROTEC</td>\n",
       "      <td>3515241.0</td>\n",
       "    </tr>\n",
       "    <tr>\n",
       "      <th>29</th>\n",
       "      <td>145 ST</td>\n",
       "      <td>3512453.0</td>\n",
       "    </tr>\n",
       "    <tr>\n",
       "      <th>...</th>\n",
       "      <td>...</td>\n",
       "      <td>...</td>\n",
       "    </tr>\n",
       "    <tr>\n",
       "      <th>349</th>\n",
       "      <td>AVENUE N</td>\n",
       "      <td>325876.0</td>\n",
       "    </tr>\n",
       "    <tr>\n",
       "      <th>350</th>\n",
       "      <td>BUSHWICK AV</td>\n",
       "      <td>315599.0</td>\n",
       "    </tr>\n",
       "    <tr>\n",
       "      <th>351</th>\n",
       "      <td>MIDDLETOWN RD</td>\n",
       "      <td>299016.0</td>\n",
       "    </tr>\n",
       "    <tr>\n",
       "      <th>352</th>\n",
       "      <td>55 ST</td>\n",
       "      <td>293127.0</td>\n",
       "    </tr>\n",
       "    <tr>\n",
       "      <th>353</th>\n",
       "      <td>WHITLOCK AV</td>\n",
       "      <td>276570.0</td>\n",
       "    </tr>\n",
       "    <tr>\n",
       "      <th>354</th>\n",
       "      <td>6 AV</td>\n",
       "      <td>269401.0</td>\n",
       "    </tr>\n",
       "    <tr>\n",
       "      <th>355</th>\n",
       "      <td>BEACH 25 ST</td>\n",
       "      <td>268270.0</td>\n",
       "    </tr>\n",
       "    <tr>\n",
       "      <th>356</th>\n",
       "      <td>215 ST</td>\n",
       "      <td>266488.0</td>\n",
       "    </tr>\n",
       "    <tr>\n",
       "      <th>357</th>\n",
       "      <td>MORRIS PARK</td>\n",
       "      <td>265168.0</td>\n",
       "    </tr>\n",
       "    <tr>\n",
       "      <th>358</th>\n",
       "      <td>AVENUE P</td>\n",
       "      <td>261531.0</td>\n",
       "    </tr>\n",
       "    <tr>\n",
       "      <th>359</th>\n",
       "      <td>ATLANTIC AV</td>\n",
       "      <td>260354.0</td>\n",
       "    </tr>\n",
       "    <tr>\n",
       "      <th>360</th>\n",
       "      <td>21 ST</td>\n",
       "      <td>252844.0</td>\n",
       "    </tr>\n",
       "    <tr>\n",
       "      <th>361</th>\n",
       "      <td>JUNIUS ST</td>\n",
       "      <td>242256.0</td>\n",
       "    </tr>\n",
       "    <tr>\n",
       "      <th>362</th>\n",
       "      <td>BEACH 90 ST</td>\n",
       "      <td>240442.0</td>\n",
       "    </tr>\n",
       "    <tr>\n",
       "      <th>363</th>\n",
       "      <td>NEPTUNE AV</td>\n",
       "      <td>218026.0</td>\n",
       "    </tr>\n",
       "    <tr>\n",
       "      <th>364</th>\n",
       "      <td>121 ST</td>\n",
       "      <td>210911.0</td>\n",
       "    </tr>\n",
       "    <tr>\n",
       "      <th>365</th>\n",
       "      <td>CYPRESS HILLS</td>\n",
       "      <td>205070.0</td>\n",
       "    </tr>\n",
       "    <tr>\n",
       "      <th>366</th>\n",
       "      <td>BOTANIC GARDEN</td>\n",
       "      <td>204019.0</td>\n",
       "    </tr>\n",
       "    <tr>\n",
       "      <th>367</th>\n",
       "      <td>ROCKAWAY PARK B</td>\n",
       "      <td>166339.0</td>\n",
       "    </tr>\n",
       "    <tr>\n",
       "      <th>368</th>\n",
       "      <td>AVENUE I</td>\n",
       "      <td>159280.0</td>\n",
       "    </tr>\n",
       "    <tr>\n",
       "      <th>369</th>\n",
       "      <td>BEACH 36 ST</td>\n",
       "      <td>145214.0</td>\n",
       "    </tr>\n",
       "    <tr>\n",
       "      <th>370</th>\n",
       "      <td>E 143/ST MARY'S</td>\n",
       "      <td>140824.0</td>\n",
       "    </tr>\n",
       "    <tr>\n",
       "      <th>371</th>\n",
       "      <td>AQUEDUCT N.COND</td>\n",
       "      <td>140159.0</td>\n",
       "    </tr>\n",
       "    <tr>\n",
       "      <th>372</th>\n",
       "      <td>NEWARK HM HE</td>\n",
       "      <td>139064.0</td>\n",
       "    </tr>\n",
       "    <tr>\n",
       "      <th>373</th>\n",
       "      <td>BEACH 98 ST</td>\n",
       "      <td>117267.0</td>\n",
       "    </tr>\n",
       "    <tr>\n",
       "      <th>374</th>\n",
       "      <td>TOMPKINSVILLE</td>\n",
       "      <td>116706.0</td>\n",
       "    </tr>\n",
       "    <tr>\n",
       "      <th>375</th>\n",
       "      <td>BEACH 44 ST</td>\n",
       "      <td>109093.0</td>\n",
       "    </tr>\n",
       "    <tr>\n",
       "      <th>376</th>\n",
       "      <td>BEACH 105 ST</td>\n",
       "      <td>78338.0</td>\n",
       "    </tr>\n",
       "    <tr>\n",
       "      <th>377</th>\n",
       "      <td>BROAD CHANNEL</td>\n",
       "      <td>47018.0</td>\n",
       "    </tr>\n",
       "    <tr>\n",
       "      <th>378</th>\n",
       "      <td>ORCHARD BEACH</td>\n",
       "      <td>29712.0</td>\n",
       "    </tr>\n",
       "  </tbody>\n",
       "</table>\n",
       "<p>379 rows × 2 columns</p>\n",
       "</div>"
      ],
      "text/plain": [
       "             STATION  ac_entries\n",
       "0     34 ST-PENN STA  13916877.0\n",
       "1          FULTON ST   9654834.0\n",
       "2              23 ST   8640859.0\n",
       "3    42 ST-PORT AUTH   8158303.0\n",
       "4              86 ST   7866832.0\n",
       "5             125 ST   7853971.0\n",
       "6     TIMES SQ-42 ST   7208142.0\n",
       "7    GRD CNTRL-42 ST   6939598.0\n",
       "8           CANAL ST   6447491.0\n",
       "9    34 ST-HERALD SQ   5958302.0\n",
       "10             59 ST   5917412.0\n",
       "11             96 ST   5785834.0\n",
       "12       CHAMBERS ST   5500401.0\n",
       "13    ATL AV-BARCLAY   5460985.0\n",
       "14             14 ST   5130465.0\n",
       "15    59 ST COLUMBUS   4922032.0\n",
       "16    14 ST-UNION SQ   4913589.0\n",
       "17             50 ST   4758980.0\n",
       "18         CHURCH AV   4671738.0\n",
       "19     FLUSHING-MAIN   4647489.0\n",
       "20             28 ST   4512370.0\n",
       "21            116 ST   4412849.0\n",
       "22   JKSN HT-ROOSVLT   4384527.0\n",
       "23           WALL ST   4168966.0\n",
       "24      PATH NEW WTC   4148839.0\n",
       "25             72 ST   3830064.0\n",
       "26         KINGS HWY   3761093.0\n",
       "27              7 AV   3746597.0\n",
       "28   JAY ST-METROTEC   3515241.0\n",
       "29            145 ST   3512453.0\n",
       "..               ...         ...\n",
       "349         AVENUE N    325876.0\n",
       "350      BUSHWICK AV    315599.0\n",
       "351    MIDDLETOWN RD    299016.0\n",
       "352            55 ST    293127.0\n",
       "353      WHITLOCK AV    276570.0\n",
       "354             6 AV    269401.0\n",
       "355      BEACH 25 ST    268270.0\n",
       "356           215 ST    266488.0\n",
       "357      MORRIS PARK    265168.0\n",
       "358         AVENUE P    261531.0\n",
       "359      ATLANTIC AV    260354.0\n",
       "360            21 ST    252844.0\n",
       "361        JUNIUS ST    242256.0\n",
       "362      BEACH 90 ST    240442.0\n",
       "363       NEPTUNE AV    218026.0\n",
       "364           121 ST    210911.0\n",
       "365    CYPRESS HILLS    205070.0\n",
       "366   BOTANIC GARDEN    204019.0\n",
       "367  ROCKAWAY PARK B    166339.0\n",
       "368         AVENUE I    159280.0\n",
       "369      BEACH 36 ST    145214.0\n",
       "370  E 143/ST MARY'S    140824.0\n",
       "371  AQUEDUCT N.COND    140159.0\n",
       "372     NEWARK HM HE    139064.0\n",
       "373      BEACH 98 ST    117267.0\n",
       "374    TOMPKINSVILLE    116706.0\n",
       "375      BEACH 44 ST    109093.0\n",
       "376     BEACH 105 ST     78338.0\n",
       "377    BROAD CHANNEL     47018.0\n",
       "378    ORCHARD BEACH     29712.0\n",
       "\n",
       "[379 rows x 2 columns]"
      ]
     },
     "execution_count": 9,
     "metadata": {},
     "output_type": "execute_result"
    }
   ],
   "source": [
    "df.groupby('STATION').ac_entries.sum().sort_values(ascending = False).reset_index()"
   ]
  },
  {
   "cell_type": "markdown",
   "metadata": {},
   "source": [
    "#### "
   ]
  },
  {
   "cell_type": "code",
   "execution_count": null,
   "metadata": {},
   "outputs": [],
   "source": []
  },
  {
   "cell_type": "code",
   "execution_count": null,
   "metadata": {},
   "outputs": [],
   "source": []
  },
  {
   "cell_type": "code",
   "execution_count": null,
   "metadata": {},
   "outputs": [],
   "source": []
  },
  {
   "cell_type": "code",
   "execution_count": 12,
   "metadata": {
    "ExecuteTime": {
     "end_time": "2020-01-10T07:07:55.500909Z",
     "start_time": "2020-01-10T07:07:53.395249Z"
    },
    "scrolled": true
   },
   "outputs": [],
   "source": [
    "df = df[['STATION','datetime','ac_entries','ac_exits']].copy()"
   ]
  },
  {
   "cell_type": "code",
   "execution_count": null,
   "metadata": {
    "ExecuteTime": {
     "end_time": "2020-01-09T23:58:57.221619Z",
     "start_time": "2020-01-09T23:58:57.193949Z"
    }
   },
   "outputs": [],
   "source": [
    "df_time.head()"
   ]
  },
  {
   "cell_type": "code",
   "execution_count": 13,
   "metadata": {
    "ExecuteTime": {
     "end_time": "2020-01-10T07:08:14.806699Z",
     "start_time": "2020-01-10T07:07:59.265631Z"
    },
    "scrolled": true
   },
   "outputs": [],
   "source": [
    "df['datetime'] =  pd.to_datetime(df['datetime'], infer_datetime_format=True)"
   ]
  },
  {
   "cell_type": "code",
   "execution_count": 14,
   "metadata": {
    "ExecuteTime": {
     "end_time": "2020-01-10T07:08:18.694576Z",
     "start_time": "2020-01-10T07:08:17.200814Z"
    }
   },
   "outputs": [],
   "source": [
    "#break TIME into two groups: 1. rush_hour_morning (6am to 10am) 2. rush_hour_evening(4pm to 8pm) 3. regular_hour (10am to 4pm)\n",
    "\n",
    "rush_hour_morning_df= df.set_index('datetime').between_time('06:00:00','10:00:00')\n",
    "\n",
    "rush_hour_evening_df = df.set_index('datetime').between_time('16:00:00','20:00:00')\n",
    "\n",
    "dfregular_hour= df.set_index('datetime').between_time('10:00:01','15:59:59')\n"
   ]
  },
  {
   "cell_type": "code",
   "execution_count": null,
   "metadata": {
    "ExecuteTime": {
     "end_time": "2020-01-09T01:55:12.381431Z",
     "start_time": "2020-01-09T01:55:12.341665Z"
    },
    "scrolled": true
   },
   "outputs": [],
   "source": [
    "#d = df_rush_hour_morning[df_rush_hour_morning.ac_entries < 7071830] # filter out the corrupted value which is a very big cumulative value at the beginning of the station\n",
    "#d.sample(5)"
   ]
  },
  {
   "cell_type": "code",
   "execution_count": 15,
   "metadata": {
    "ExecuteTime": {
     "end_time": "2020-01-10T07:08:27.033627Z",
     "start_time": "2020-01-10T07:08:26.895132Z"
    }
   },
   "outputs": [],
   "source": [
    "m = rush_hour_morning_df.groupby('STATION')['ac_entries'].sum().sort_values(ascending=False)"
   ]
  },
  {
   "cell_type": "code",
   "execution_count": 16,
   "metadata": {
    "ExecuteTime": {
     "end_time": "2020-01-10T07:08:29.397667Z",
     "start_time": "2020-01-10T07:08:29.382895Z"
    }
   },
   "outputs": [
    {
     "data": {
      "text/plain": [
       "2028351.0"
      ]
     },
     "execution_count": 16,
     "metadata": {},
     "output_type": "execute_result"
    }
   ],
   "source": [
    "m.get(key = '34 ST-PENN STA') "
   ]
  },
  {
   "cell_type": "code",
   "execution_count": 17,
   "metadata": {
    "ExecuteTime": {
     "end_time": "2020-01-10T07:08:30.451960Z",
     "start_time": "2020-01-10T07:08:30.435165Z"
    }
   },
   "outputs": [
    {
     "data": {
      "text/plain": [
       "1139692.0"
      ]
     },
     "execution_count": 17,
     "metadata": {},
     "output_type": "execute_result"
    }
   ],
   "source": [
    "m.get(key = 'FULTON ST') "
   ]
  },
  {
   "cell_type": "code",
   "execution_count": 18,
   "metadata": {
    "ExecuteTime": {
     "end_time": "2020-01-10T07:08:31.313726Z",
     "start_time": "2020-01-10T07:08:31.291137Z"
    }
   },
   "outputs": [
    {
     "data": {
      "text/plain": [
       "987570.0"
      ]
     },
     "execution_count": 18,
     "metadata": {},
     "output_type": "execute_result"
    }
   ],
   "source": [
    "m.get(key = '23 ST') "
   ]
  },
  {
   "cell_type": "code",
   "execution_count": 19,
   "metadata": {
    "ExecuteTime": {
     "end_time": "2020-01-10T07:08:32.435484Z",
     "start_time": "2020-01-10T07:08:32.403809Z"
    }
   },
   "outputs": [
    {
     "data": {
      "text/plain": [
       "1630649.0"
      ]
     },
     "execution_count": 19,
     "metadata": {},
     "output_type": "execute_result"
    }
   ],
   "source": [
    "m.get(key = '42 ST-PORT AUTH') "
   ]
  },
  {
   "cell_type": "code",
   "execution_count": 20,
   "metadata": {
    "ExecuteTime": {
     "end_time": "2020-01-10T07:08:33.185973Z",
     "start_time": "2020-01-10T07:08:33.171103Z"
    }
   },
   "outputs": [
    {
     "data": {
      "text/plain": [
       "820196.0"
      ]
     },
     "execution_count": 20,
     "metadata": {},
     "output_type": "execute_result"
    }
   ],
   "source": [
    "m.get(key = 'TIMES SQ-42 ST') "
   ]
  },
  {
   "cell_type": "code",
   "execution_count": null,
   "metadata": {
    "ExecuteTime": {
     "end_time": "2020-01-10T03:49:44.339771Z",
     "start_time": "2020-01-10T03:49:44.316151Z"
    }
   },
   "outputs": [],
   "source": [
    "#regular_hour.groupby('STATION')['ac_entries'].sum().sort_values(ascending=False)"
   ]
  },
  {
   "cell_type": "code",
   "execution_count": 21,
   "metadata": {
    "ExecuteTime": {
     "end_time": "2020-01-10T07:10:05.312200Z",
     "start_time": "2020-01-10T07:10:05.139827Z"
    }
   },
   "outputs": [],
   "source": [
    "e = rush_hour_evening_df.groupby('STATION')['ac_entries'].sum().sort_values(ascending=False)"
   ]
  },
  {
   "cell_type": "code",
   "execution_count": 22,
   "metadata": {
    "ExecuteTime": {
     "end_time": "2020-01-10T07:10:05.917411Z",
     "start_time": "2020-01-10T07:10:05.896677Z"
    }
   },
   "outputs": [
    {
     "data": {
      "text/plain": [
       "7347951.0"
      ]
     },
     "execution_count": 22,
     "metadata": {},
     "output_type": "execute_result"
    }
   ],
   "source": [
    "e.get(key = '34 ST-PENN STA') "
   ]
  },
  {
   "cell_type": "code",
   "execution_count": 23,
   "metadata": {
    "ExecuteTime": {
     "end_time": "2020-01-10T07:10:06.477040Z",
     "start_time": "2020-01-10T07:10:06.469438Z"
    }
   },
   "outputs": [
    {
     "data": {
      "text/plain": [
       "3459539.0"
      ]
     },
     "execution_count": 23,
     "metadata": {},
     "output_type": "execute_result"
    }
   ],
   "source": [
    "e.get(key = 'FULTON ST') "
   ]
  },
  {
   "cell_type": "code",
   "execution_count": 24,
   "metadata": {
    "ExecuteTime": {
     "end_time": "2020-01-10T07:10:07.021854Z",
     "start_time": "2020-01-10T07:10:07.002468Z"
    }
   },
   "outputs": [
    {
     "data": {
      "text/plain": [
       "4078480.0"
      ]
     },
     "execution_count": 24,
     "metadata": {},
     "output_type": "execute_result"
    }
   ],
   "source": [
    "e.get(key = '23 ST') "
   ]
  },
  {
   "cell_type": "code",
   "execution_count": 25,
   "metadata": {
    "ExecuteTime": {
     "end_time": "2020-01-10T07:10:07.477118Z",
     "start_time": "2020-01-10T07:10:07.462216Z"
    }
   },
   "outputs": [
    {
     "data": {
      "text/plain": [
       "3619624.0"
      ]
     },
     "execution_count": 25,
     "metadata": {},
     "output_type": "execute_result"
    }
   ],
   "source": [
    "e.get(key = '42 ST-PORT AUTH') "
   ]
  },
  {
   "cell_type": "code",
   "execution_count": 26,
   "metadata": {
    "ExecuteTime": {
     "end_time": "2020-01-10T07:10:08.577090Z",
     "start_time": "2020-01-10T07:10:08.569569Z"
    }
   },
   "outputs": [
    {
     "data": {
      "text/plain": [
       "3711030.0"
      ]
     },
     "execution_count": 26,
     "metadata": {},
     "output_type": "execute_result"
    }
   ],
   "source": [
    "e.get(key = 'TIMES SQ-42 ST') "
   ]
  },
  {
   "cell_type": "code",
   "execution_count": 28,
   "metadata": {
    "ExecuteTime": {
     "end_time": "2020-01-10T07:11:17.936936Z",
     "start_time": "2020-01-10T07:11:17.415176Z"
    }
   },
   "outputs": [],
   "source": [
    "import matplotlib\n",
    "import matplotlib.pyplot as plt\n",
    "import numpy as np"
   ]
  },
  {
   "cell_type": "code",
   "execution_count": 33,
   "metadata": {
    "ExecuteTime": {
     "end_time": "2020-01-10T07:30:11.281367Z",
     "start_time": "2020-01-10T07:30:10.929459Z"
    }
   },
   "outputs": [
    {
     "data": {
      "image/png": "[encoded data removed]",
      "text/plain": [
       "<Figure size 432x288 with 1 Axes>"
      ]
     },
     "metadata": {
      "needs_background": "light"
     },
     "output_type": "display_data"
    }
   ],
   "source": [
    "labels = ['34 ST-PENN STA', 'FULTON ST', '23 ST','42 ST-PORT AUTH', 'TIMES SQ-42 ST']\n",
    "morning_rush = [2028351.0, 1139692.0, 987570.0, 1630649.0, 820196.0]\n",
    "evening_rush = [7347951.0, 3459539.0, 4078480.0, 3619624.0, 3711030.0]\n",
    "\n",
    "\n",
    "x = np.arange(len(labels)) \n",
    "width = 0.3  # the width of the bars\n",
    "\n",
    "\n",
    "fig, ax = plt.subplots()\n",
    "rects1 = ax.bar(x - width/2, morning_rush, width, label='morning rush: 6a.m. - 10a.m.')\n",
    "rects2 = ax.bar(x + width/2, evening_rush, width, label='evening rush: 4a.m. - 8p.m.')\n",
    "\n",
    "# Add some text for labels, title and custom x-axis tick labels, etc.\n",
    "ax.set_ylabel('number of entries')\n",
    "ax.set_title('number of entries by station')\n",
    "ax.set_xticks(x)\n",
    "ax.set_xticklabels(labels)\n",
    "ax.legend()\n",
    "\n",
    "\n",
    "def autolabel(rects):\n",
    "    \"\"\"Attach a text label above each bar in *rects*, displaying its height.\"\"\"\n",
    "    for rect in rects:\n",
    "        height = rect.get_height()\n",
    "        ax.annotate('{}'.format(height),\n",
    "                    xy=(rect.get_x() + rect.get_width() / 2, height),\n",
    "                    xytext=(0, 4),  # 3 points vertical offset\n",
    "                    textcoords=\"offset points\",\n",
    "                    ha='center', va='bottom')\n",
    "\n",
    "\n",
    "autolabel(rects1)\n",
    "autolabel(rects2)\n",
    "\n",
    "fig.tight_layout()\n",
    "\n",
    "plt.show()"
   ]
  },
  {
   "cell_type": "code",
   "execution_count": 43,
   "metadata": {
    "ExecuteTime": {
     "end_time": "2020-01-12T23:28:37.184751Z",
     "start_time": "2020-01-12T23:28:36.442243Z"
    }
   },
   "outputs": [
    {
     "data": {
      "image/png": "[encoded data removed]",
      "text/plain": [
       "<Figure size 432x288 with 1 Axes>"
      ]
     },
     "metadata": {
      "needs_background": "light"
     },
     "output_type": "display_data"
    }
   ],
   "source": [
    "import pandas\n",
    "import matplotlib.pyplot as plt\n",
    "import numpy as np\n",
    "\n",
    "df_g = pandas.DataFrame(dict(graph=['34 ST-PENN STA', 'FULTON ST', '23 ST','42 ST-PORT AUTH', 'TIMES SQ-42 ST'],\n",
    "                           n=[2028351.0, 1139692.0, 987570.0, 1630649.0, 820196.0],\n",
    "                           m=[7347951.0, 3459539.0, 4078480.0, 3619624.0, 3711030.0])) \n",
    "\n",
    "ind = np.arange(len(df_g))\n",
    "width = 0.4\n",
    "\n",
    "fig, ax = plt.subplots()\n",
    "ax.barh(ind, df_g.n, width, color='blue', label='Morning: 6a.m. - 10a.m.')\n",
    "ax.barh(ind + width, df_g.m, width, color='grey', label='Evening: 4p.m. - 8p.m.')\n",
    "ax.set_title('Number Of Entries By Station')\n",
    "\n",
    "ax.set(yticks=ind + width, yticklabels=df_g.graph, ylim=[2*width - 1, len(df_g)])\n",
    "\n",
    "\n",
    "ax.legend()\n",
    "\n",
    "plt.show()\n"
   ]
  },
  {
   "cell_type": "code",
   "execution_count": null,
   "metadata": {},
   "outputs": [],
   "source": []
  }
 ],
 "metadata": {
  "kernelspec": {
   "display_name": "Python 3",
   "language": "python",
   "name": "python3"
  },
  "language_info": {
   "codemirror_mode": {
    "name": "ipython",
    "version": 3
   },
   "file_extension": ".py",
   "mimetype": "text/x-python",
   "name": "python",
   "nbconvert_exporter": "python",
   "pygments_lexer": "ipython3",
   "version": "3.7.3"
  }
 },
 "nbformat": 4,
 "nbformat_minor": 2
}
