{
 "cells": [
  {
   "cell_type": "markdown",
   "metadata": {},
   "source": [
    "## Load The Data"
   ]
  },
  {
   "cell_type": "code",
   "execution_count": null,
   "metadata": {
    "ExecuteTime": {
     "end_time": "2020-01-14T05:03:40.641259Z",
     "start_time": "2020-01-14T05:03:37.912914Z"
    }
   },
   "outputs": [],
   "source": [
    "import pandas as pd\n",
    "import numpy as np\n",
    "import matplotlib.pyplot as plt\n",
    "import seaborn as sns"
   ]
  },
  {
   "cell_type": "code",
   "execution_count": null,
   "metadata": {
    "ExecuteTime": {
     "end_time": "2020-01-14T05:15:17.802494Z",
     "start_time": "2020-01-14T05:03:40.645645Z"
    }
   },
   "outputs": [],
   "source": [
    "turnstile_data = pd.concat([\n",
    "                       pd.read_csv('http://web.mta.info/developers/data/nyct/turnstile/turnstile_190601.txt'),    #june 1, 2019\n",
    "                       pd.read_csv('http://web.mta.info/developers/data/nyct/turnstile/turnstile_190608.txt'),    #june 8, 2019\n",
    "                       pd.read_csv('http://web.mta.info/developers/data/nyct/turnstile/turnstile_190615.txt'),    #june 15, 2019\n",
    "                       pd.read_csv('http://web.mta.info/developers/data/nyct/turnstile/turnstile_190622.txt'),    #june 22, 2019\n",
    "                       pd.read_csv('http://web.mta.info/developers/data/nyct/turnstile/turnstile_190629.txt'),    #june 29, 2019\n",
    "\n",
    "                       pd.read_csv('http://web.mta.info/developers/data/nyct/turnstile/turnstile_190706.txt'),    #july 6, 2019\n",
    "                       pd.read_csv('http://web.mta.info/developers/data/nyct/turnstile/turnstile_190713.txt'),    #july 13, 2019\n",
    "                       pd.read_csv('http://web.mta.info/developers/data/nyct/turnstile/turnstile_190720.txt'),    #july 20, 2019\n",
    "                       pd.read_csv('http://web.mta.info/developers/data/nyct/turnstile/turnstile_190727.txt'),    #july 27, 2019\n",
    "\n",
    "                       pd.read_csv('http://web.mta.info/developers/data/nyct/turnstile/turnstile_180602.txt'),    #june 2, 2018\n",
    "                       pd.read_csv('http://web.mta.info/developers/data/nyct/turnstile/turnstile_180609.txt'),    #june 9, 2018\n",
    "                       pd.read_csv('http://web.mta.info/developers/data/nyct/turnstile/turnstile_180616.txt'),    #june 16, 2018\n",
    "                       pd.read_csv('http://web.mta.info/developers/data/nyct/turnstile/turnstile_180623.txt'),    #june 23, 2018\n",
    "                       pd.read_csv('http://web.mta.info/developers/data/nyct/turnstile/turnstile_180630.txt'),    #june 30, 2018\n",
    "                       \n",
    "                       pd.read_csv('http://web.mta.info/developers/data/nyct/turnstile/turnstile_180707.txt'),    #july 7, 2018\n",
    "                       pd.read_csv('http://web.mta.info/developers/data/nyct/turnstile/turnstile_180714.txt'),    #july 14, 2018\n",
    "                       pd.read_csv('http://web.mta.info/developers/data/nyct/turnstile/turnstile_180721.txt'),    #july 21, 2018\n",
    "                       pd.read_csv('http://web.mta.info/developers/data/nyct/turnstile/turnstile_180728.txt'),    #july 28, 2018\n",
    "\n",
    "                       pd.read_csv('http://web.mta.info/developers/data/nyct/turnstile/turnstile_170603.txt'),    #june 3, 2017\n",
    "                       pd.read_csv('http://web.mta.info/developers/data/nyct/turnstile/turnstile_170610.txt'),    #june 10, 2017\n",
    "                       pd.read_csv('http://web.mta.info/developers/data/nyct/turnstile/turnstile_170617.txt'),    #june 17, 2017\n",
    "                       pd.read_csv('http://web.mta.info/developers/data/nyct/turnstile/turnstile_170624.txt'),    #june 24, 2017\n",
    "\n",
    "                       pd.read_csv('http://web.mta.info/developers/data/nyct/turnstile/turnstile_170701.txt'),    #july 1, 2017\n",
    "                       pd.read_csv('http://web.mta.info/developers/data/nyct/turnstile/turnstile_170708.txt'),    #july 8, 2017\n",
    "                       pd.read_csv('http://web.mta.info/developers/data/nyct/turnstile/turnstile_170715.txt'),    #july 15, 2017\n",
    "                       pd.read_csv('http://web.mta.info/developers/data/nyct/turnstile/turnstile_170722.txt'),    #july 22, 2017\n",
    "                       pd.read_csv('http://web.mta.info/developers/data/nyct/turnstile/turnstile_170729.txt'),    #july 29, 2017\n",
    "                       ])"
   ]
  },
  {
   "cell_type": "code",
   "execution_count": null,
   "metadata": {
    "ExecuteTime": {
     "end_time": "2020-01-14T05:15:17.841597Z",
     "start_time": "2020-01-14T05:15:17.809964Z"
    }
   },
   "outputs": [],
   "source": [
    "turnstile_data.info()"
   ]
  },
  {
   "cell_type": "code",
   "execution_count": null,
   "metadata": {
    "ExecuteTime": {
     "end_time": "2020-01-14T05:15:17.894165Z",
     "start_time": "2020-01-14T05:15:17.846258Z"
    }
   },
   "outputs": [],
   "source": [
    "turnstile_data.head()"
   ]
  },
  {
   "cell_type": "markdown",
   "metadata": {},
   "source": [
    "## Clean The Data"
   ]
  },
  {
   "cell_type": "code",
   "execution_count": null,
   "metadata": {
    "ExecuteTime": {
     "end_time": "2020-01-14T05:15:39.095265Z",
     "start_time": "2020-01-14T05:15:17.905309Z"
    }
   },
   "outputs": [],
   "source": [
    "turnstile_data.rename(columns=lambda x: x.strip(), inplace=True)\n",
    "turnstile_data = turnstile_data.rename(columns=lambda x: x.strip()) # strip the white space for each column\n",
    "\n",
    "turnstile_data['datetime'] = turnstile_data['DATE'].str.cat(turnstile_data['TIME'],sep=\" \") # combine two columns into one\n",
    "\n",
    "turnstile_data['turnstile_id'] = turnstile_data['STATION'] + '-' + turnstile_data['C/A'] + '-' + turnstile_data['UNIT'] + '-' + turnstile_data['SCP']\n",
    "\n",
    "turnstile_data.sort_values(['turnstile_id','datetime'],inplace = True)\n",
    "\n",
    "turnstile_data.reset_index(drop= True,inplace = True)\n",
    "\n",
    "turnstile_data['ac_entries'] = turnstile_data['ENTRIES'].diff() # do subtraction to get the real entries number # \n",
    "turnstile_data['ac_exits'] = turnstile_data['EXITS'].diff() # do subtraction to get the real exits number"
   ]
  },
  {
   "cell_type": "code",
   "execution_count": null,
   "metadata": {
    "ExecuteTime": {
     "end_time": "2020-01-14T05:15:40.257385Z",
     "start_time": "2020-01-14T05:15:39.105205Z"
    }
   },
   "outputs": [],
   "source": [
    "turnstile_data.describe() # check the statistics of the dataframe"
   ]
  },
  {
   "cell_type": "code",
   "execution_count": null,
   "metadata": {
    "ExecuteTime": {
     "end_time": "2020-01-14T05:15:43.662154Z",
     "start_time": "2020-01-14T05:15:40.272287Z"
    }
   },
   "outputs": [],
   "source": [
    "Q3 = 2.190000e+02\n",
    "Q1 = 8.000000e+00\n",
    "\n",
    "IQR = Q3-Q1\n",
    "\n",
    "upper_bound = Q3+2*IQR \n",
    "\n",
    "lower_bound = Q1-2*IQR\n",
    "\n",
    "possible_outlier_len = len(turnstile_data[turnstile_data.ac_entries < lower_bound])+len(turnstile_data[turnstile_data.ac_entries > upper_bound])\n",
    "outlier_perc = possible_outlier_len/len(turnstile_data)\n",
    "\n",
    "d = turnstile_data[turnstile_data.ac_entries > lower_bound] # filter out outliers and get new dataframe\n",
    "df = d[d.ac_entries < upper_bound]"
   ]
  },
  {
   "cell_type": "markdown",
   "metadata": {},
   "source": [
    "## Compare The Traffic Of Each Station\n",
    "### Stations With Most Entries"
   ]
  },
  {
   "cell_type": "code",
   "execution_count": null,
   "metadata": {
    "ExecuteTime": {
     "end_time": "2020-01-14T05:15:44.154922Z",
     "start_time": "2020-01-14T05:15:43.676766Z"
    }
   },
   "outputs": [],
   "source": [
    "# choose top 10 stations with most entries\n",
    "df.groupby('STATION').ac_entries.sum().sort_values(ascending = False).reset_index()[:10]"
   ]
  },
  {
   "cell_type": "markdown",
   "metadata": {},
   "source": [
    "### Weekday Versus Weekend"
   ]
  },
  {
   "cell_type": "code",
   "execution_count": null,
   "metadata": {
    "ExecuteTime": {
     "end_time": "2020-01-14T05:24:33.776499Z",
     "start_time": "2020-01-14T05:15:44.160591Z"
    }
   },
   "outputs": [],
   "source": [
    "df['datetime'] = pd.to_datetime(df['datetime'])\n",
    "df['day_of_week'] = df['datetime'].dt.day_name()\n",
    "df['daytype'] = np.select([df.day_of_week.isin(['Monday','Tuesday','Wednesday','Thursday','Friday'])], ['Weekday'], default='Weekend')\n",
    "\n",
    "top_stations = df.groupby(['STATION','daytype'], as_index = False).ac_entries.sum()\n",
    "top_stations = top_stations.pivot_table(index = 'STATION', columns = 'daytype', values = 'ac_entries')\n",
    "top_stations['Weekday'] = top_stations['Weekday']/5\n",
    "top_stations['Weekend'] = top_stations['Weekend']/2\n",
    "top_stations.sort_values('Weekday', ascending = False).iloc[:25]"
   ]
  },
  {
   "cell_type": "markdown",
   "metadata": {},
   "source": [
    "### Morning Rush Versus Evening Rush"
   ]
  },
  {
   "cell_type": "code",
   "execution_count": null,
   "metadata": {
    "ExecuteTime": {
     "end_time": "2020-01-14T05:24:39.817005Z",
     "start_time": "2020-01-14T05:24:33.779090Z"
    }
   },
   "outputs": [],
   "source": [
    "#split TIME into two groups: 1. rush_hour_morning (6am to 10am) 2. rush_hour_evening(4pm to 8pm) 3. regular_hour (10am to 4pm)\n",
    "\n",
    "rush_hour_morning_df= df.set_index('datetime').between_time('06:00:00','10:00:00')\n",
    "\n",
    "rush_hour_evening_df = df.set_index('datetime').between_time('16:00:00','20:00:00')\n",
    "\n",
    "dfregular_hour= df.set_index('datetime').between_time('10:00:01','15:59:59')\n"
   ]
  },
  {
   "cell_type": "code",
   "execution_count": null,
   "metadata": {
    "ExecuteTime": {
     "end_time": "2020-01-14T05:24:39.979567Z",
     "start_time": "2020-01-14T05:24:39.821987Z"
    }
   },
   "outputs": [],
   "source": [
    "m = rush_hour_morning_df.groupby('STATION')['ac_entries'].sum().sort_values(ascending=False)\n",
    "e = rush_hour_evening_df.groupby('STATION')['ac_entries'].sum().sort_values(ascending=False)"
   ]
  },
  {
   "cell_type": "code",
   "execution_count": null,
   "metadata": {
    "ExecuteTime": {
     "end_time": "2020-01-14T05:24:39.993483Z",
     "start_time": "2020-01-14T05:24:39.981844Z"
    }
   },
   "outputs": [],
   "source": [
    "m.get(key = '34 ST-PENN STA') "
   ]
  },
  {
   "cell_type": "code",
   "execution_count": null,
   "metadata": {
    "ExecuteTime": {
     "end_time": "2020-01-14T05:24:40.005119Z",
     "start_time": "2020-01-14T05:24:39.998372Z"
    }
   },
   "outputs": [],
   "source": [
    "m.get(key = 'FULTON ST') "
   ]
  },
  {
   "cell_type": "code",
   "execution_count": null,
   "metadata": {
    "ExecuteTime": {
     "end_time": "2020-01-14T05:24:40.015774Z",
     "start_time": "2020-01-14T05:24:40.007549Z"
    }
   },
   "outputs": [],
   "source": [
    "m.get(key = '23 ST') "
   ]
  },
  {
   "cell_type": "code",
   "execution_count": null,
   "metadata": {
    "ExecuteTime": {
     "end_time": "2020-01-14T05:24:40.026821Z",
     "start_time": "2020-01-14T05:24:40.018108Z"
    }
   },
   "outputs": [],
   "source": [
    "m.get(key = '42 ST-PORT AUTH') "
   ]
  },
  {
   "cell_type": "code",
   "execution_count": null,
   "metadata": {
    "ExecuteTime": {
     "end_time": "2020-01-14T05:24:40.038387Z",
     "start_time": "2020-01-14T05:24:40.030261Z"
    }
   },
   "outputs": [],
   "source": [
    "m.get(key = 'TIMES SQ-42 ST') "
   ]
  },
  {
   "cell_type": "code",
   "execution_count": null,
   "metadata": {
    "ExecuteTime": {
     "end_time": "2020-01-14T05:24:40.075721Z",
     "start_time": "2020-01-14T05:24:40.042221Z"
    }
   },
   "outputs": [],
   "source": [
    "e.get(key = '34 ST-PENN STA') "
   ]
  },
  {
   "cell_type": "code",
   "execution_count": null,
   "metadata": {
    "ExecuteTime": {
     "end_time": "2020-01-14T05:24:40.088715Z",
     "start_time": "2020-01-14T05:24:40.082412Z"
    }
   },
   "outputs": [],
   "source": [
    "e.get(key = 'FULTON ST') "
   ]
  },
  {
   "cell_type": "code",
   "execution_count": null,
   "metadata": {
    "ExecuteTime": {
     "end_time": "2020-01-14T05:24:40.099870Z",
     "start_time": "2020-01-14T05:24:40.093243Z"
    }
   },
   "outputs": [],
   "source": [
    "e.get(key = '23 ST') "
   ]
  },
  {
   "cell_type": "code",
   "execution_count": null,
   "metadata": {
    "ExecuteTime": {
     "end_time": "2020-01-14T05:24:40.108885Z",
     "start_time": "2020-01-14T05:24:40.102701Z"
    }
   },
   "outputs": [],
   "source": [
    "e.get(key = '42 ST-PORT AUTH') "
   ]
  },
  {
   "cell_type": "code",
   "execution_count": null,
   "metadata": {
    "ExecuteTime": {
     "end_time": "2020-01-14T05:24:40.120593Z",
     "start_time": "2020-01-14T05:24:40.111827Z"
    }
   },
   "outputs": [],
   "source": [
    "e.get(key = 'TIMES SQ-42 ST') "
   ]
  },
  {
   "cell_type": "markdown",
   "metadata": {},
   "source": [
    "## Data Visualization "
   ]
  },
  {
   "cell_type": "code",
   "execution_count": null,
   "metadata": {
    "ExecuteTime": {
     "end_time": "2020-01-14T05:24:40.385115Z",
     "start_time": "2020-01-14T05:24:40.124841Z"
    }
   },
   "outputs": [],
   "source": [
    "station_list = ['PENN STA', 'FULTON ST', '23 ST','42 ST-PT AUTH','TIMES SQ']\n",
    "week_days = [2148856, 1573770, 1354106, 1202111, 1076011]\n",
    "week_ends = [1586298, 892990, 935164, 1073874, 914042]\n",
    "\n",
    "bar_graph = np.arange(len(station_list))  # the label locations\n",
    "width = 0.35  # the width of the bars\n",
    "\n",
    "fig, ax = plt.subplots()\n",
    "rects1 = ax.bar(bar_graph - width/2, week_days, width, label='Weekdays')\n",
    "rects2 = ax.bar(bar_graph + width/2, week_ends, width, label='Weekends')\n",
    "\n",
    "ax.set_ylabel('Entries')\n",
    "ax.set_title('Average Entries at Stations Based on Day')\n",
    "ax.set_xticks(bar_graph)\n",
    "ax.set_xticklabels(station_list)\n",
    "ax.legend()\n",
    "\n",
    "def autolabel(rects):\n",
    "    \"\"\"Attach a text label above each bar in *rects*, displaying its height.\"\"\"\n",
    "    for rect in rects:\n",
    "        height = rect.get_height()\n",
    "        ax.annotate('{}'.format(height),\n",
    "                    xy=(rect.get_x() + rect.get_width() / 2, height),\n",
    "                    xytext=(0, 3),  # 3 points vertical offset\n",
    "                    textcoords=\"offset points\",\n",
    "                    ha='center', va='bottom')\n",
    "\n",
    "\n",
    "\n",
    "\n",
    "#fig.tight_layout()\n",
    "\n",
    "plt.show()\n"
   ]
  },
  {
   "cell_type": "code",
   "execution_count": null,
   "metadata": {
    "ExecuteTime": {
     "end_time": "2020-01-14T05:26:06.131618Z",
     "start_time": "2020-01-14T05:26:05.817441Z"
    }
   },
   "outputs": [],
   "source": [
    "import pandas\n",
    "import matplotlib.pyplot as plt\n",
    "import numpy as np\n",
    "\n",
    "df_g = pandas.DataFrame(dict(graph=['34 ST-PENN STA', 'FULTON ST', '23 ST','42 ST-PORT AUTH', 'TIMES SQ-42 ST'],\n",
    "                           n=[2028351.0, 1139692.0, 987570.0, 1630649.0, 820196.0],\n",
    "                           m=[7347951.0, 3459539.0, 4078480.0, 3619624.0, 3711030.0])) \n",
    "\n",
    "ind = np.arange(len(df_g))\n",
    "width = 0.4\n",
    "\n",
    "fig, ax = plt.subplots()\n",
    "ax.barh(ind, df_g.n, width, color='blue', label='Morning: 6a.m. - 10a.m.')\n",
    "ax.barh(ind + width, df_g.m, width, color='grey', label='Evening: 4p.m. - 8p.m.')\n",
    "ax.set_title('Number of Entries by Station')\n",
    "\n",
    "ax.set(yticks=ind + width, yticklabels=df_g.graph, ylim=[2*width - 1, len(df_g)])\n",
    "\n",
    "\n",
    "ax.legend()\n",
    "\n",
    "plt.show()\n"
   ]
  }
 ],
 "metadata": {
  "kernelspec": {
   "display_name": "Python 3",
   "language": "python",
   "name": "python3"
  },
  "language_info": {
   "codemirror_mode": {
    "name": "ipython",
    "version": 3
   },
   "file_extension": ".py",
   "mimetype": "text/x-python",
   "name": "python",
   "nbconvert_exporter": "python",
   "pygments_lexer": "ipython3",
   "version": "3.7.3"
  },
  "toc": {
   "base_numbering": 1,
   "nav_menu": {},
   "number_sections": true,
   "sideBar": true,
   "skip_h1_title": false,
   "title_cell": "Table of Contents",
   "title_sidebar": "Contents",
   "toc_cell": false,
   "toc_position": {},
   "toc_section_display": true,
   "toc_window_display": true
  }
 },
 "nbformat": 4,
 "nbformat_minor": 2
}
