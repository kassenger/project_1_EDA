{
 "cells": [
  {
   "cell_type": "markdown",
   "metadata": {},
   "source": [
    "## Load The Data"
   ]
  },
  {
   "cell_type": "code",
   "execution_count": 1,
   "metadata": {
    "ExecuteTime": {
     "end_time": "2020-06-09T18:54:27.239904Z",
     "start_time": "2020-06-09T18:54:23.354722Z"
    }
   },
   "outputs": [],
   "source": [
    "import pandas as pd\n",
    "import numpy as np\n",
    "import matplotlib.pyplot as plt\n",
    "import seaborn as sns"
   ]
  },
  {
   "cell_type": "code",
   "execution_count": 2,
   "metadata": {
    "ExecuteTime": {
     "end_time": "2020-06-09T19:02:57.113179Z",
     "start_time": "2020-06-09T18:54:31.860991Z"
    }
   },
   "outputs": [],
   "source": [
    "turnstile_data = pd.concat([\n",
    "                       pd.read_csv('http://web.mta.info/developers/data/nyct/turnstile/turnstile_190601.txt'),    #june 1, 2019\n",
    "                       pd.read_csv('http://web.mta.info/developers/data/nyct/turnstile/turnstile_190608.txt'),    #june 8, 2019\n",
    "                       pd.read_csv('http://web.mta.info/developers/data/nyct/turnstile/turnstile_190615.txt'),    #june 15, 2019\n",
    "                       pd.read_csv('http://web.mta.info/developers/data/nyct/turnstile/turnstile_190622.txt'),    #june 22, 2019\n",
    "                       pd.read_csv('http://web.mta.info/developers/data/nyct/turnstile/turnstile_190629.txt'),    #june 29, 2019\n",
    "\n",
    "                       pd.read_csv('http://web.mta.info/developers/data/nyct/turnstile/turnstile_190706.txt'),    #july 6, 2019\n",
    "                       pd.read_csv('http://web.mta.info/developers/data/nyct/turnstile/turnstile_190713.txt'),    #july 13, 2019\n",
    "                       pd.read_csv('http://web.mta.info/developers/data/nyct/turnstile/turnstile_190720.txt'),    #july 20, 2019\n",
    "                       pd.read_csv('http://web.mta.info/developers/data/nyct/turnstile/turnstile_190727.txt'),    #july 27, 2019\n",
    "\n",
    "                       pd.read_csv('http://web.mta.info/developers/data/nyct/turnstile/turnstile_180602.txt'),    #june 2, 2018\n",
    "                       pd.read_csv('http://web.mta.info/developers/data/nyct/turnstile/turnstile_180609.txt'),    #june 9, 2018\n",
    "                       pd.read_csv('http://web.mta.info/developers/data/nyct/turnstile/turnstile_180616.txt'),    #june 16, 2018\n",
    "                       pd.read_csv('http://web.mta.info/developers/data/nyct/turnstile/turnstile_180623.txt'),    #june 23, 2018\n",
    "                       pd.read_csv('http://web.mta.info/developers/data/nyct/turnstile/turnstile_180630.txt'),    #june 30, 2018\n",
    "                       \n",
    "                       pd.read_csv('http://web.mta.info/developers/data/nyct/turnstile/turnstile_180707.txt'),    #july 7, 2018\n",
    "                       pd.read_csv('http://web.mta.info/developers/data/nyct/turnstile/turnstile_180714.txt'),    #july 14, 2018\n",
    "                       pd.read_csv('http://web.mta.info/developers/data/nyct/turnstile/turnstile_180721.txt'),    #july 21, 2018\n",
    "                       pd.read_csv('http://web.mta.info/developers/data/nyct/turnstile/turnstile_180728.txt'),    #july 28, 2018\n",
    "\n",
    "                       pd.read_csv('http://web.mta.info/developers/data/nyct/turnstile/turnstile_170603.txt'),    #june 3, 2017\n",
    "                       pd.read_csv('http://web.mta.info/developers/data/nyct/turnstile/turnstile_170610.txt'),    #june 10, 2017\n",
    "                       pd.read_csv('http://web.mta.info/developers/data/nyct/turnstile/turnstile_170617.txt'),    #june 17, 2017\n",
    "                       pd.read_csv('http://web.mta.info/developers/data/nyct/turnstile/turnstile_170624.txt'),    #june 24, 2017\n",
    "\n",
    "                       pd.read_csv('http://web.mta.info/developers/data/nyct/turnstile/turnstile_170701.txt'),    #july 1, 2017\n",
    "                       pd.read_csv('http://web.mta.info/developers/data/nyct/turnstile/turnstile_170708.txt'),    #july 8, 2017\n",
    "                       pd.read_csv('http://web.mta.info/developers/data/nyct/turnstile/turnstile_170715.txt'),    #july 15, 2017\n",
    "                       pd.read_csv('http://web.mta.info/developers/data/nyct/turnstile/turnstile_170722.txt'),    #july 22, 2017\n",
    "                       pd.read_csv('http://web.mta.info/developers/data/nyct/turnstile/turnstile_170729.txt'),    #july 29, 2017\n",
    "                       ])"
   ]
  },
  {
   "cell_type": "code",
   "execution_count": 3,
   "metadata": {
    "ExecuteTime": {
     "end_time": "2020-06-09T19:06:30.135818Z",
     "start_time": "2020-06-09T19:06:30.109503Z"
    }
   },
   "outputs": [
    {
     "name": "stdout",
     "output_type": "stream",
     "text": [
      "<class 'pandas.core.frame.DataFrame'>\n",
      "Int64Index: 5405519 entries, 0 to 200111\n",
      "Data columns (total 11 columns):\n",
      "C/A                                                                     object\n",
      "UNIT                                                                    object\n",
      "SCP                                                                     object\n",
      "STATION                                                                 object\n",
      "LINENAME                                                                object\n",
      "DIVISION                                                                object\n",
      "DATE                                                                    object\n",
      "TIME                                                                    object\n",
      "DESC                                                                    object\n",
      "ENTRIES                                                                 int64\n",
      "EXITS                                                                   int64\n",
      "dtypes: int64(2), object(9)\n",
      "memory usage: 494.9+ MB\n"
     ]
    }
   ],
   "source": [
    "turnstile_data.info()"
   ]
  },
  {
   "cell_type": "code",
   "execution_count": 4,
   "metadata": {
    "ExecuteTime": {
     "end_time": "2020-06-09T19:06:31.372352Z",
     "start_time": "2020-06-09T19:06:31.332951Z"
    }
   },
   "outputs": [
    {
     "data": {
      "text/html": [
       "<div>\n",
       "<style scoped>\n",
       "    .dataframe tbody tr th:only-of-type {\n",
       "        vertical-align: middle;\n",
       "    }\n",
       "\n",
       "    .dataframe tbody tr th {\n",
       "        vertical-align: top;\n",
       "    }\n",
       "\n",
       "    .dataframe thead th {\n",
       "        text-align: right;\n",
       "    }\n",
       "</style>\n",
       "<table border=\"1\" class=\"dataframe\">\n",
       "  <thead>\n",
       "    <tr style=\"text-align: right;\">\n",
       "      <th></th>\n",
       "      <th>C/A</th>\n",
       "      <th>UNIT</th>\n",
       "      <th>SCP</th>\n",
       "      <th>STATION</th>\n",
       "      <th>LINENAME</th>\n",
       "      <th>DIVISION</th>\n",
       "      <th>DATE</th>\n",
       "      <th>TIME</th>\n",
       "      <th>DESC</th>\n",
       "      <th>ENTRIES</th>\n",
       "      <th>EXITS</th>\n",
       "    </tr>\n",
       "  </thead>\n",
       "  <tbody>\n",
       "    <tr>\n",
       "      <th>0</th>\n",
       "      <td>A002</td>\n",
       "      <td>R051</td>\n",
       "      <td>02-00-00</td>\n",
       "      <td>59 ST</td>\n",
       "      <td>NQR456W</td>\n",
       "      <td>BMT</td>\n",
       "      <td>05/25/2019</td>\n",
       "      <td>00:00:00</td>\n",
       "      <td>REGULAR</td>\n",
       "      <td>7071830</td>\n",
       "      <td>2396411</td>\n",
       "    </tr>\n",
       "    <tr>\n",
       "      <th>1</th>\n",
       "      <td>A002</td>\n",
       "      <td>R051</td>\n",
       "      <td>02-00-00</td>\n",
       "      <td>59 ST</td>\n",
       "      <td>NQR456W</td>\n",
       "      <td>BMT</td>\n",
       "      <td>05/25/2019</td>\n",
       "      <td>04:00:00</td>\n",
       "      <td>REGULAR</td>\n",
       "      <td>7071844</td>\n",
       "      <td>2396415</td>\n",
       "    </tr>\n",
       "    <tr>\n",
       "      <th>2</th>\n",
       "      <td>A002</td>\n",
       "      <td>R051</td>\n",
       "      <td>02-00-00</td>\n",
       "      <td>59 ST</td>\n",
       "      <td>NQR456W</td>\n",
       "      <td>BMT</td>\n",
       "      <td>05/25/2019</td>\n",
       "      <td>08:00:00</td>\n",
       "      <td>REGULAR</td>\n",
       "      <td>7071864</td>\n",
       "      <td>2396443</td>\n",
       "    </tr>\n",
       "    <tr>\n",
       "      <th>3</th>\n",
       "      <td>A002</td>\n",
       "      <td>R051</td>\n",
       "      <td>02-00-00</td>\n",
       "      <td>59 ST</td>\n",
       "      <td>NQR456W</td>\n",
       "      <td>BMT</td>\n",
       "      <td>05/25/2019</td>\n",
       "      <td>12:00:00</td>\n",
       "      <td>REGULAR</td>\n",
       "      <td>7071943</td>\n",
       "      <td>2396500</td>\n",
       "    </tr>\n",
       "    <tr>\n",
       "      <th>4</th>\n",
       "      <td>A002</td>\n",
       "      <td>R051</td>\n",
       "      <td>02-00-00</td>\n",
       "      <td>59 ST</td>\n",
       "      <td>NQR456W</td>\n",
       "      <td>BMT</td>\n",
       "      <td>05/25/2019</td>\n",
       "      <td>16:00:00</td>\n",
       "      <td>REGULAR</td>\n",
       "      <td>7072182</td>\n",
       "      <td>2396555</td>\n",
       "    </tr>\n",
       "  </tbody>\n",
       "</table>\n",
       "</div>"
      ],
      "text/plain": [
       "    C/A  UNIT       SCP STATION LINENAME DIVISION        DATE      TIME  \\\n",
       "0  A002  R051  02-00-00   59 ST  NQR456W      BMT  05/25/2019  00:00:00   \n",
       "1  A002  R051  02-00-00   59 ST  NQR456W      BMT  05/25/2019  04:00:00   \n",
       "2  A002  R051  02-00-00   59 ST  NQR456W      BMT  05/25/2019  08:00:00   \n",
       "3  A002  R051  02-00-00   59 ST  NQR456W      BMT  05/25/2019  12:00:00   \n",
       "4  A002  R051  02-00-00   59 ST  NQR456W      BMT  05/25/2019  16:00:00   \n",
       "\n",
       "      DESC  ENTRIES  \\\n",
       "0  REGULAR  7071830   \n",
       "1  REGULAR  7071844   \n",
       "2  REGULAR  7071864   \n",
       "3  REGULAR  7071943   \n",
       "4  REGULAR  7072182   \n",
       "\n",
       "   EXITS                                                                 \n",
       "0                                            2396411                     \n",
       "1                                            2396415                     \n",
       "2                                            2396443                     \n",
       "3                                            2396500                     \n",
       "4                                            2396555                     "
      ]
     },
     "execution_count": 4,
     "metadata": {},
     "output_type": "execute_result"
    }
   ],
   "source": [
    "turnstile_data.head()"
   ]
  },
  {
   "cell_type": "markdown",
   "metadata": {},
   "source": [
    "## Clean The Data"
   ]
  },
  {
   "cell_type": "code",
   "execution_count": 5,
   "metadata": {
    "ExecuteTime": {
     "end_time": "2020-06-09T19:06:52.971764Z",
     "start_time": "2020-06-09T19:06:32.734388Z"
    }
   },
   "outputs": [],
   "source": [
    "turnstile_data.rename(columns=lambda x: x.strip(), inplace=True)\n",
    "turnstile_data = turnstile_data.rename(columns=lambda x: x.strip()) # strip the white space for each column\n",
    "\n",
    "turnstile_data['datetime'] = turnstile_data['DATE'].str.cat(turnstile_data['TIME'],sep=\" \") # combine two columns into one\n",
    "\n",
    "turnstile_data['turnstile_id'] = turnstile_data['STATION'] + '-' + turnstile_data['C/A'] + '-' + turnstile_data['UNIT'] + '-' + turnstile_data['SCP']\n",
    "\n",
    "turnstile_data.sort_values(['turnstile_id','datetime'],inplace = True)\n",
    "\n",
    "turnstile_data.reset_index(drop= True,inplace = True)\n",
    "\n",
    "turnstile_data['ac_entries'] = turnstile_data['ENTRIES'].diff() # do subtraction to get the real entries number # \n",
    "turnstile_data['ac_exits'] = turnstile_data['EXITS'].diff() # do subtraction to get the real exits number"
   ]
  },
  {
   "cell_type": "code",
   "execution_count": 6,
   "metadata": {
    "ExecuteTime": {
     "end_time": "2020-06-09T19:06:55.730397Z",
     "start_time": "2020-06-09T19:06:54.756536Z"
    }
   },
   "outputs": [
    {
     "data": {
      "text/html": [
       "<div>\n",
       "<style scoped>\n",
       "    .dataframe tbody tr th:only-of-type {\n",
       "        vertical-align: middle;\n",
       "    }\n",
       "\n",
       "    .dataframe tbody tr th {\n",
       "        vertical-align: top;\n",
       "    }\n",
       "\n",
       "    .dataframe thead th {\n",
       "        text-align: right;\n",
       "    }\n",
       "</style>\n",
       "<table border=\"1\" class=\"dataframe\">\n",
       "  <thead>\n",
       "    <tr style=\"text-align: right;\">\n",
       "      <th></th>\n",
       "      <th>ENTRIES</th>\n",
       "      <th>EXITS</th>\n",
       "      <th>ac_entries</th>\n",
       "      <th>ac_exits</th>\n",
       "    </tr>\n",
       "  </thead>\n",
       "  <tbody>\n",
       "    <tr>\n",
       "      <th>count</th>\n",
       "      <td>5.405519e+06</td>\n",
       "      <td>5.405519e+06</td>\n",
       "      <td>5.405518e+06</td>\n",
       "      <td>5.405518e+06</td>\n",
       "    </tr>\n",
       "    <tr>\n",
       "      <th>mean</th>\n",
       "      <td>4.048916e+07</td>\n",
       "      <td>3.290394e+07</td>\n",
       "      <td>-2.723033e+00</td>\n",
       "      <td>-3.043391e+00</td>\n",
       "    </tr>\n",
       "    <tr>\n",
       "      <th>std</th>\n",
       "      <td>2.099989e+08</td>\n",
       "      <td>1.916148e+08</td>\n",
       "      <td>5.662509e+07</td>\n",
       "      <td>4.826536e+07</td>\n",
       "    </tr>\n",
       "    <tr>\n",
       "      <th>min</th>\n",
       "      <td>0.000000e+00</td>\n",
       "      <td>0.000000e+00</td>\n",
       "      <td>-2.116996e+09</td>\n",
       "      <td>-2.108758e+09</td>\n",
       "    </tr>\n",
       "    <tr>\n",
       "      <th>25%</th>\n",
       "      <td>4.440680e+05</td>\n",
       "      <td>1.952975e+05</td>\n",
       "      <td>6.000000e+00</td>\n",
       "      <td>5.000000e+00</td>\n",
       "    </tr>\n",
       "    <tr>\n",
       "      <th>50%</th>\n",
       "      <td>2.436994e+06</td>\n",
       "      <td>1.366476e+06</td>\n",
       "      <td>8.900000e+01</td>\n",
       "      <td>5.800000e+01</td>\n",
       "    </tr>\n",
       "    <tr>\n",
       "      <th>75%</th>\n",
       "      <td>6.840620e+06</td>\n",
       "      <td>4.734020e+06</td>\n",
       "      <td>3.390000e+02</td>\n",
       "      <td>2.340000e+02</td>\n",
       "    </tr>\n",
       "    <tr>\n",
       "      <th>max</th>\n",
       "      <td>2.130465e+09</td>\n",
       "      <td>2.124055e+09</td>\n",
       "      <td>2.121879e+09</td>\n",
       "      <td>2.120286e+09</td>\n",
       "    </tr>\n",
       "  </tbody>\n",
       "</table>\n",
       "</div>"
      ],
      "text/plain": [
       "            ENTRIES         EXITS    ac_entries      ac_exits\n",
       "count  5.405519e+06  5.405519e+06  5.405518e+06  5.405518e+06\n",
       "mean   4.048916e+07  3.290394e+07 -2.723033e+00 -3.043391e+00\n",
       "std    2.099989e+08  1.916148e+08  5.662509e+07  4.826536e+07\n",
       "min    0.000000e+00  0.000000e+00 -2.116996e+09 -2.108758e+09\n",
       "25%    4.440680e+05  1.952975e+05  6.000000e+00  5.000000e+00\n",
       "50%    2.436994e+06  1.366476e+06  8.900000e+01  5.800000e+01\n",
       "75%    6.840620e+06  4.734020e+06  3.390000e+02  2.340000e+02\n",
       "max    2.130465e+09  2.124055e+09  2.121879e+09  2.120286e+09"
      ]
     },
     "execution_count": 6,
     "metadata": {},
     "output_type": "execute_result"
    }
   ],
   "source": [
    "turnstile_data.describe() # check the statistics of the dataframe"
   ]
  },
  {
   "cell_type": "code",
   "execution_count": 7,
   "metadata": {
    "ExecuteTime": {
     "end_time": "2020-06-09T19:07:02.708860Z",
     "start_time": "2020-06-09T19:07:00.097898Z"
    }
   },
   "outputs": [],
   "source": [
    "Q3 = 2.190000e+02\n",
    "Q1 = 8.000000e+00\n",
    "\n",
    "IQR = Q3-Q1\n",
    "\n",
    "upper_bound = Q3+2*IQR \n",
    "\n",
    "lower_bound = Q1-2*IQR\n",
    "\n",
    "possible_outlier_len = len(turnstile_data[turnstile_data.ac_entries < lower_bound])+len(turnstile_data[turnstile_data.ac_entries > upper_bound])\n",
    "outlier_perc = possible_outlier_len/len(turnstile_data)\n",
    "\n",
    "d = turnstile_data[turnstile_data.ac_entries > lower_bound] # filter out outliers and get new dataframe\n",
    "df = d[d.ac_entries < upper_bound]"
   ]
  },
  {
   "cell_type": "markdown",
   "metadata": {},
   "source": [
    "## Compare The Traffic Of Each Station\n",
    "### Stations With Most Entries"
   ]
  },
  {
   "cell_type": "code",
   "execution_count": 8,
   "metadata": {
    "ExecuteTime": {
     "end_time": "2020-06-09T19:07:05.761316Z",
     "start_time": "2020-06-09T19:07:05.453843Z"
    }
   },
   "outputs": [
    {
     "data": {
      "text/html": [
       "<div>\n",
       "<style scoped>\n",
       "    .dataframe tbody tr th:only-of-type {\n",
       "        vertical-align: middle;\n",
       "    }\n",
       "\n",
       "    .dataframe tbody tr th {\n",
       "        vertical-align: top;\n",
       "    }\n",
       "\n",
       "    .dataframe thead th {\n",
       "        text-align: right;\n",
       "    }\n",
       "</style>\n",
       "<table border=\"1\" class=\"dataframe\">\n",
       "  <thead>\n",
       "    <tr style=\"text-align: right;\">\n",
       "      <th></th>\n",
       "      <th>STATION</th>\n",
       "      <th>ac_entries</th>\n",
       "    </tr>\n",
       "  </thead>\n",
       "  <tbody>\n",
       "    <tr>\n",
       "      <th>0</th>\n",
       "      <td>34 ST-PENN STA</td>\n",
       "      <td>13916877.0</td>\n",
       "    </tr>\n",
       "    <tr>\n",
       "      <th>1</th>\n",
       "      <td>FULTON ST</td>\n",
       "      <td>9654834.0</td>\n",
       "    </tr>\n",
       "    <tr>\n",
       "      <th>2</th>\n",
       "      <td>23 ST</td>\n",
       "      <td>8640859.0</td>\n",
       "    </tr>\n",
       "    <tr>\n",
       "      <th>3</th>\n",
       "      <td>42 ST-PORT AUTH</td>\n",
       "      <td>8158303.0</td>\n",
       "    </tr>\n",
       "    <tr>\n",
       "      <th>4</th>\n",
       "      <td>86 ST</td>\n",
       "      <td>7866832.0</td>\n",
       "    </tr>\n",
       "    <tr>\n",
       "      <th>5</th>\n",
       "      <td>125 ST</td>\n",
       "      <td>7853971.0</td>\n",
       "    </tr>\n",
       "    <tr>\n",
       "      <th>6</th>\n",
       "      <td>TIMES SQ-42 ST</td>\n",
       "      <td>7208142.0</td>\n",
       "    </tr>\n",
       "    <tr>\n",
       "      <th>7</th>\n",
       "      <td>GRD CNTRL-42 ST</td>\n",
       "      <td>6939598.0</td>\n",
       "    </tr>\n",
       "    <tr>\n",
       "      <th>8</th>\n",
       "      <td>CANAL ST</td>\n",
       "      <td>6447491.0</td>\n",
       "    </tr>\n",
       "    <tr>\n",
       "      <th>9</th>\n",
       "      <td>34 ST-HERALD SQ</td>\n",
       "      <td>5958302.0</td>\n",
       "    </tr>\n",
       "  </tbody>\n",
       "</table>\n",
       "</div>"
      ],
      "text/plain": [
       "           STATION  ac_entries\n",
       "0   34 ST-PENN STA  13916877.0\n",
       "1        FULTON ST   9654834.0\n",
       "2            23 ST   8640859.0\n",
       "3  42 ST-PORT AUTH   8158303.0\n",
       "4            86 ST   7866832.0\n",
       "5           125 ST   7853971.0\n",
       "6   TIMES SQ-42 ST   7208142.0\n",
       "7  GRD CNTRL-42 ST   6939598.0\n",
       "8         CANAL ST   6447491.0\n",
       "9  34 ST-HERALD SQ   5958302.0"
      ]
     },
     "execution_count": 8,
     "metadata": {},
     "output_type": "execute_result"
    }
   ],
   "source": [
    "# choose top 10 stations with most entries\n",
    "df.groupby('STATION').ac_entries.sum().sort_values(ascending = False).reset_index()[:10]"
   ]
  },
  {
   "cell_type": "markdown",
   "metadata": {},
   "source": [
    "### Weekday Versus Weekend"
   ]
  },
  {
   "cell_type": "code",
   "execution_count": 9,
   "metadata": {
    "ExecuteTime": {
     "end_time": "2020-06-09T19:16:21.745313Z",
     "start_time": "2020-06-09T19:07:07.776496Z"
    }
   },
   "outputs": [
    {
     "name": "stderr",
     "output_type": "stream",
     "text": [
      "/Users/luyuankong/anaconda3/lib/python3.7/site-packages/ipykernel_launcher.py:1: SettingWithCopyWarning: \n",
      "A value is trying to be set on a copy of a slice from a DataFrame.\n",
      "Try using .loc[row_indexer,col_indexer] = value instead\n",
      "\n",
      "See the caveats in the documentation: http://pandas.pydata.org/pandas-docs/stable/indexing.html#indexing-view-versus-copy\n",
      "  \"\"\"Entry point for launching an IPython kernel.\n",
      "/Users/luyuankong/anaconda3/lib/python3.7/site-packages/ipykernel_launcher.py:2: SettingWithCopyWarning: \n",
      "A value is trying to be set on a copy of a slice from a DataFrame.\n",
      "Try using .loc[row_indexer,col_indexer] = value instead\n",
      "\n",
      "See the caveats in the documentation: http://pandas.pydata.org/pandas-docs/stable/indexing.html#indexing-view-versus-copy\n",
      "  \n",
      "/Users/luyuankong/anaconda3/lib/python3.7/site-packages/ipykernel_launcher.py:3: SettingWithCopyWarning: \n",
      "A value is trying to be set on a copy of a slice from a DataFrame.\n",
      "Try using .loc[row_indexer,col_indexer] = value instead\n",
      "\n",
      "See the caveats in the documentation: http://pandas.pydata.org/pandas-docs/stable/indexing.html#indexing-view-versus-copy\n",
      "  This is separate from the ipykernel package so we can avoid doing imports until\n"
     ]
    },
    {
     "data": {
      "text/html": [
       "<div>\n",
       "<style scoped>\n",
       "    .dataframe tbody tr th:only-of-type {\n",
       "        vertical-align: middle;\n",
       "    }\n",
       "\n",
       "    .dataframe tbody tr th {\n",
       "        vertical-align: top;\n",
       "    }\n",
       "\n",
       "    .dataframe thead th {\n",
       "        text-align: right;\n",
       "    }\n",
       "</style>\n",
       "<table border=\"1\" class=\"dataframe\">\n",
       "  <thead>\n",
       "    <tr style=\"text-align: right;\">\n",
       "      <th>daytype</th>\n",
       "      <th>Weekday</th>\n",
       "      <th>Weekend</th>\n",
       "    </tr>\n",
       "    <tr>\n",
       "      <th>STATION</th>\n",
       "      <th></th>\n",
       "      <th></th>\n",
       "    </tr>\n",
       "  </thead>\n",
       "  <tbody>\n",
       "    <tr>\n",
       "      <th>34 ST-PENN STA</th>\n",
       "      <td>2148856.0</td>\n",
       "      <td>1586298.5</td>\n",
       "    </tr>\n",
       "    <tr>\n",
       "      <th>FULTON ST</th>\n",
       "      <td>1573770.6</td>\n",
       "      <td>892990.5</td>\n",
       "    </tr>\n",
       "    <tr>\n",
       "      <th>23 ST</th>\n",
       "      <td>1354106.2</td>\n",
       "      <td>935164.0</td>\n",
       "    </tr>\n",
       "    <tr>\n",
       "      <th>125 ST</th>\n",
       "      <td>1223971.8</td>\n",
       "      <td>867056.0</td>\n",
       "    </tr>\n",
       "    <tr>\n",
       "      <th>86 ST</th>\n",
       "      <td>1216295.0</td>\n",
       "      <td>892678.5</td>\n",
       "    </tr>\n",
       "    <tr>\n",
       "      <th>42 ST-PORT AUTH</th>\n",
       "      <td>1202111.0</td>\n",
       "      <td>1073874.0</td>\n",
       "    </tr>\n",
       "    <tr>\n",
       "      <th>GRD CNTRL-42 ST</th>\n",
       "      <td>1086170.4</td>\n",
       "      <td>754373.0</td>\n",
       "    </tr>\n",
       "    <tr>\n",
       "      <th>TIMES SQ-42 ST</th>\n",
       "      <td>1076011.4</td>\n",
       "      <td>914042.5</td>\n",
       "    </tr>\n",
       "    <tr>\n",
       "      <th>CANAL ST</th>\n",
       "      <td>979141.8</td>\n",
       "      <td>775891.0</td>\n",
       "    </tr>\n",
       "    <tr>\n",
       "      <th>CHAMBERS ST</th>\n",
       "      <td>943514.2</td>\n",
       "      <td>391415.0</td>\n",
       "    </tr>\n",
       "    <tr>\n",
       "      <th>59 ST</th>\n",
       "      <td>913035.6</td>\n",
       "      <td>676117.0</td>\n",
       "    </tr>\n",
       "    <tr>\n",
       "      <th>96 ST</th>\n",
       "      <td>894120.6</td>\n",
       "      <td>657615.5</td>\n",
       "    </tr>\n",
       "    <tr>\n",
       "      <th>ATL AV-BARCLAY</th>\n",
       "      <td>869036.8</td>\n",
       "      <td>557900.5</td>\n",
       "    </tr>\n",
       "    <tr>\n",
       "      <th>34 ST-HERALD SQ</th>\n",
       "      <td>861349.0</td>\n",
       "      <td>825778.5</td>\n",
       "    </tr>\n",
       "    <tr>\n",
       "      <th>14 ST</th>\n",
       "      <td>808049.4</td>\n",
       "      <td>545109.0</td>\n",
       "    </tr>\n",
       "    <tr>\n",
       "      <th>WALL ST</th>\n",
       "      <td>743568.6</td>\n",
       "      <td>225561.5</td>\n",
       "    </tr>\n",
       "    <tr>\n",
       "      <th>CHURCH AV</th>\n",
       "      <td>733140.6</td>\n",
       "      <td>503017.5</td>\n",
       "    </tr>\n",
       "    <tr>\n",
       "      <th>28 ST</th>\n",
       "      <td>727697.2</td>\n",
       "      <td>436942.0</td>\n",
       "    </tr>\n",
       "    <tr>\n",
       "      <th>50 ST</th>\n",
       "      <td>725178.0</td>\n",
       "      <td>566545.0</td>\n",
       "    </tr>\n",
       "    <tr>\n",
       "      <th>59 ST COLUMBUS</th>\n",
       "      <td>707615.6</td>\n",
       "      <td>691977.0</td>\n",
       "    </tr>\n",
       "    <tr>\n",
       "      <th>116 ST</th>\n",
       "      <td>701116.8</td>\n",
       "      <td>453632.5</td>\n",
       "    </tr>\n",
       "    <tr>\n",
       "      <th>14 ST-UNION SQ</th>\n",
       "      <td>689645.4</td>\n",
       "      <td>732681.0</td>\n",
       "    </tr>\n",
       "    <tr>\n",
       "      <th>PATH NEW WTC</th>\n",
       "      <td>686050.0</td>\n",
       "      <td>359294.5</td>\n",
       "    </tr>\n",
       "    <tr>\n",
       "      <th>FLUSHING-MAIN</th>\n",
       "      <td>663200.2</td>\n",
       "      <td>665744.0</td>\n",
       "    </tr>\n",
       "    <tr>\n",
       "      <th>JKSN HT-ROOSVLT</th>\n",
       "      <td>616055.2</td>\n",
       "      <td>652125.5</td>\n",
       "    </tr>\n",
       "  </tbody>\n",
       "</table>\n",
       "</div>"
      ],
      "text/plain": [
       "daytype            Weekday    Weekend\n",
       "STATION                              \n",
       "34 ST-PENN STA   2148856.0  1586298.5\n",
       "FULTON ST        1573770.6   892990.5\n",
       "23 ST            1354106.2   935164.0\n",
       "125 ST           1223971.8   867056.0\n",
       "86 ST            1216295.0   892678.5\n",
       "42 ST-PORT AUTH  1202111.0  1073874.0\n",
       "GRD CNTRL-42 ST  1086170.4   754373.0\n",
       "TIMES SQ-42 ST   1076011.4   914042.5\n",
       "CANAL ST          979141.8   775891.0\n",
       "CHAMBERS ST       943514.2   391415.0\n",
       "59 ST             913035.6   676117.0\n",
       "96 ST             894120.6   657615.5\n",
       "ATL AV-BARCLAY    869036.8   557900.5\n",
       "34 ST-HERALD SQ   861349.0   825778.5\n",
       "14 ST             808049.4   545109.0\n",
       "WALL ST           743568.6   225561.5\n",
       "CHURCH AV         733140.6   503017.5\n",
       "28 ST             727697.2   436942.0\n",
       "50 ST             725178.0   566545.0\n",
       "59 ST COLUMBUS    707615.6   691977.0\n",
       "116 ST            701116.8   453632.5\n",
       "14 ST-UNION SQ    689645.4   732681.0\n",
       "PATH NEW WTC      686050.0   359294.5\n",
       "FLUSHING-MAIN     663200.2   665744.0\n",
       "JKSN HT-ROOSVLT   616055.2   652125.5"
      ]
     },
     "execution_count": 9,
     "metadata": {},
     "output_type": "execute_result"
    }
   ],
   "source": [
    "df['datetime'] = pd.to_datetime(df['datetime'])\n",
    "df['day_of_week'] = df['datetime'].dt.day_name()\n",
    "df['daytype'] = np.select([df.day_of_week.isin(['Monday','Tuesday','Wednesday','Thursday','Friday'])], ['Weekday'], default='Weekend')\n",
    "\n",
    "top_stations = df.groupby(['STATION','daytype'], as_index = False).ac_entries.sum()\n",
    "top_stations = top_stations.pivot_table(index = 'STATION', columns = 'daytype', values = 'ac_entries')\n",
    "top_stations['Weekday'] = top_stations['Weekday']/5\n",
    "top_stations['Weekend'] = top_stations['Weekend']/2\n",
    "top_stations.sort_values('Weekday', ascending = False).iloc[:25]"
   ]
  },
  {
   "cell_type": "markdown",
   "metadata": {},
   "source": [
    "### Morning Rush Versus Evening Rush"
   ]
  },
  {
   "cell_type": "code",
   "execution_count": 10,
   "metadata": {
    "ExecuteTime": {
     "end_time": "2020-06-09T19:16:30.456325Z",
     "start_time": "2020-06-09T19:16:21.755031Z"
    }
   },
   "outputs": [],
   "source": [
    "#split TIME into two groups: 1. rush_hour_morning (6am to 10am) 2. rush_hour_evening(4pm to 8pm) 3. regular_hour (10am to 4pm)\n",
    "\n",
    "rush_hour_morning_df= df.set_index('datetime').between_time('06:00:00','10:00:00')\n",
    "\n",
    "rush_hour_evening_df = df.set_index('datetime').between_time('16:00:00','20:00:00')\n",
    "\n",
    "dfregular_hour= df.set_index('datetime').between_time('10:00:01','15:59:59')\n"
   ]
  },
  {
   "cell_type": "code",
   "execution_count": 11,
   "metadata": {
    "ExecuteTime": {
     "end_time": "2020-06-09T19:16:30.778740Z",
     "start_time": "2020-06-09T19:16:30.475389Z"
    }
   },
   "outputs": [],
   "source": [
    "m = rush_hour_morning_df.groupby('STATION')['ac_entries'].sum().sort_values(ascending=False)\n",
    "e = rush_hour_evening_df.groupby('STATION')['ac_entries'].sum().sort_values(ascending=False)"
   ]
  },
  {
   "cell_type": "code",
   "execution_count": 12,
   "metadata": {
    "ExecuteTime": {
     "end_time": "2020-06-09T19:16:30.810897Z",
     "start_time": "2020-06-09T19:16:30.788035Z"
    }
   },
   "outputs": [
    {
     "data": {
      "text/plain": [
       "2028351.0"
      ]
     },
     "execution_count": 12,
     "metadata": {},
     "output_type": "execute_result"
    }
   ],
   "source": [
    "m.get(key = '34 ST-PENN STA') "
   ]
  },
  {
   "cell_type": "code",
   "execution_count": 13,
   "metadata": {
    "ExecuteTime": {
     "end_time": "2020-06-09T19:16:30.835322Z",
     "start_time": "2020-06-09T19:16:30.820973Z"
    }
   },
   "outputs": [
    {
     "data": {
      "text/plain": [
       "1139692.0"
      ]
     },
     "execution_count": 13,
     "metadata": {},
     "output_type": "execute_result"
    }
   ],
   "source": [
    "m.get(key = 'FULTON ST') "
   ]
  },
  {
   "cell_type": "code",
   "execution_count": 14,
   "metadata": {
    "ExecuteTime": {
     "end_time": "2020-06-09T19:16:30.860135Z",
     "start_time": "2020-06-09T19:16:30.843738Z"
    }
   },
   "outputs": [
    {
     "data": {
      "text/plain": [
       "987570.0"
      ]
     },
     "execution_count": 14,
     "metadata": {},
     "output_type": "execute_result"
    }
   ],
   "source": [
    "m.get(key = '23 ST') "
   ]
  },
  {
   "cell_type": "code",
   "execution_count": 15,
   "metadata": {
    "ExecuteTime": {
     "end_time": "2020-06-09T19:16:30.890321Z",
     "start_time": "2020-06-09T19:16:30.871866Z"
    }
   },
   "outputs": [
    {
     "data": {
      "text/plain": [
       "1630649.0"
      ]
     },
     "execution_count": 15,
     "metadata": {},
     "output_type": "execute_result"
    }
   ],
   "source": [
    "m.get(key = '42 ST-PORT AUTH') "
   ]
  },
  {
   "cell_type": "code",
   "execution_count": 16,
   "metadata": {
    "ExecuteTime": {
     "end_time": "2020-06-09T19:16:30.920022Z",
     "start_time": "2020-06-09T19:16:30.900841Z"
    }
   },
   "outputs": [
    {
     "data": {
      "text/plain": [
       "820196.0"
      ]
     },
     "execution_count": 16,
     "metadata": {},
     "output_type": "execute_result"
    }
   ],
   "source": [
    "m.get(key = 'TIMES SQ-42 ST') "
   ]
  },
  {
   "cell_type": "code",
   "execution_count": 17,
   "metadata": {
    "ExecuteTime": {
     "end_time": "2020-06-09T19:16:30.935973Z",
     "start_time": "2020-06-09T19:16:30.928610Z"
    }
   },
   "outputs": [
    {
     "data": {
      "text/plain": [
       "7347951.0"
      ]
     },
     "execution_count": 17,
     "metadata": {},
     "output_type": "execute_result"
    }
   ],
   "source": [
    "e.get(key = '34 ST-PENN STA') "
   ]
  },
  {
   "cell_type": "code",
   "execution_count": 18,
   "metadata": {
    "ExecuteTime": {
     "end_time": "2020-06-09T19:16:30.950426Z",
     "start_time": "2020-06-09T19:16:30.939481Z"
    }
   },
   "outputs": [
    {
     "data": {
      "text/plain": [
       "3459539.0"
      ]
     },
     "execution_count": 18,
     "metadata": {},
     "output_type": "execute_result"
    }
   ],
   "source": [
    "e.get(key = 'FULTON ST') "
   ]
  },
  {
   "cell_type": "code",
   "execution_count": 19,
   "metadata": {
    "ExecuteTime": {
     "end_time": "2020-06-09T19:16:30.977141Z",
     "start_time": "2020-06-09T19:16:30.959611Z"
    }
   },
   "outputs": [
    {
     "data": {
      "text/plain": [
       "4078480.0"
      ]
     },
     "execution_count": 19,
     "metadata": {},
     "output_type": "execute_result"
    }
   ],
   "source": [
    "e.get(key = '23 ST') "
   ]
  },
  {
   "cell_type": "code",
   "execution_count": 20,
   "metadata": {
    "ExecuteTime": {
     "end_time": "2020-06-09T19:16:31.000897Z",
     "start_time": "2020-06-09T19:16:30.987893Z"
    }
   },
   "outputs": [
    {
     "data": {
      "text/plain": [
       "3619624.0"
      ]
     },
     "execution_count": 20,
     "metadata": {},
     "output_type": "execute_result"
    }
   ],
   "source": [
    "e.get(key = '42 ST-PORT AUTH') "
   ]
  },
  {
   "cell_type": "code",
   "execution_count": 21,
   "metadata": {
    "ExecuteTime": {
     "end_time": "2020-06-09T19:16:31.052628Z",
     "start_time": "2020-06-09T19:16:31.006879Z"
    }
   },
   "outputs": [
    {
     "data": {
      "text/plain": [
       "3711030.0"
      ]
     },
     "execution_count": 21,
     "metadata": {},
     "output_type": "execute_result"
    }
   ],
   "source": [
    "e.get(key = 'TIMES SQ-42 ST') "
   ]
  },
  {
   "cell_type": "markdown",
   "metadata": {},
   "source": [
    "## Data Visualization "
   ]
  },
  {
   "cell_type": "code",
   "execution_count": 22,
   "metadata": {
    "ExecuteTime": {
     "end_time": "2020-06-09T19:16:31.465346Z",
     "start_time": "2020-06-09T19:16:31.055887Z"
    }
   },
   "outputs": [
    {
     "data": {
      "image/png": "[encoded data removed]",
      "text/plain": [
       "<Figure size 432x288 with 1 Axes>"
      ]
     },
     "metadata": {
      "needs_background": "light"
     },
     "output_type": "display_data"
    }
   ],
   "source": [
    "station_list = ['PENN STA', 'FULTON ST', '23 ST','42 ST-PT AUTH','TIMES SQ']\n",
    "week_days = [2148856, 1573770, 1354106, 1202111, 1076011]\n",
    "week_ends = [1586298, 892990, 935164, 1073874, 914042]\n",
    "\n",
    "bar_graph = np.arange(len(station_list))  # the label locations\n",
    "width = 0.35  # the width of the bars\n",
    "\n",
    "fig, ax = plt.subplots()\n",
    "rects1 = ax.bar(bar_graph - width/2, week_days, width, label='Weekdays')\n",
    "rects2 = ax.bar(bar_graph + width/2, week_ends, width, label='Weekends')\n",
    "\n",
    "ax.set_ylabel('Entries')\n",
    "ax.set_title('Average Entries at Stations Based on Day')\n",
    "ax.set_xticks(bar_graph)\n",
    "ax.set_xticklabels(station_list)\n",
    "ax.legend()\n",
    "\n",
    "def autolabel(rects):\n",
    "    \"\"\"Attach a text label above each bar in *rects*, displaying its height.\"\"\"\n",
    "    for rect in rects:\n",
    "        height = rect.get_height()\n",
    "        ax.annotate('{}'.format(height),\n",
    "                    xy=(rect.get_x() + rect.get_width() / 2, height),\n",
    "                    xytext=(0, 3),  # 3 points vertical offset\n",
    "                    textcoords=\"offset points\",\n",
    "                    ha='center', va='bottom')\n",
    "\n",
    "\n",
    "\n",
    "\n",
    "#fig.tight_layout()\n",
    "\n",
    "plt.show()\n"
   ]
  },
  {
   "cell_type": "code",
   "execution_count": 23,
   "metadata": {
    "ExecuteTime": {
     "end_time": "2020-06-09T19:16:31.678143Z",
     "start_time": "2020-06-09T19:16:31.468846Z"
    }
   },
   "outputs": [
    {
     "data": {
      "image/png": "[encoded data removed]",
      "text/plain": [
       "<Figure size 432x288 with 1 Axes>"
      ]
     },
     "metadata": {
      "needs_background": "light"
     },
     "output_type": "display_data"
    }
   ],
   "source": [
    "import pandas\n",
    "import matplotlib.pyplot as plt\n",
    "import numpy as np\n",
    "\n",
    "df_g = pandas.DataFrame(dict(graph=['34 ST-PENN STA', 'FULTON ST', '23 ST','42 ST-PORT AUTH', 'TIMES SQ-42 ST'],\n",
    "                           n=[2028351.0, 1139692.0, 987570.0, 1630649.0, 820196.0],\n",
    "                           m=[7347951.0, 3459539.0, 4078480.0, 3619624.0, 3711030.0])) \n",
    "\n",
    "ind = np.arange(len(df_g))\n",
    "width = 0.4\n",
    "\n",
    "fig, ax = plt.subplots()\n",
    "ax.barh(ind, df_g.n, width, color='blue', label='Morning: 6a.m. - 10a.m.')\n",
    "ax.barh(ind + width, df_g.m, width, color='grey', label='Evening: 4p.m. - 8p.m.')\n",
    "ax.set_title('Number of Entries by Station')\n",
    "\n",
    "ax.set(yticks=ind + width, yticklabels=df_g.graph, ylim=[2*width - 1, len(df_g)])\n",
    "\n",
    "ax.legend()\n",
    "\n",
    "plt.show()\n"
   ]
  }
 ],
 "metadata": {
  "kernelspec": {
   "display_name": "Python 3",
   "language": "python",
   "name": "python3"
  },
  "language_info": {
   "codemirror_mode": {
    "name": "ipython",
    "version": 3
   },
   "file_extension": ".py",
   "mimetype": "text/x-python",
   "name": "python",
   "nbconvert_exporter": "python",
   "pygments_lexer": "ipython3",
   "version": "3.7.3"
  },
  "toc": {
   "base_numbering": 1,
   "nav_menu": {},
   "number_sections": true,
   "sideBar": true,
   "skip_h1_title": false,
   "title_cell": "Table of Contents",
   "title_sidebar": "Contents",
   "toc_cell": false,
   "toc_position": {},
   "toc_section_display": true,
   "toc_window_display": true
  }
 },
 "nbformat": 4,
 "nbformat_minor": 2
}
